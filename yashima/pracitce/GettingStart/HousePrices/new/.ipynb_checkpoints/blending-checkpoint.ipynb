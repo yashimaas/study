{
 "cells": [
  {
   "cell_type": "code",
   "execution_count": 1,
   "metadata": {
    "ExecuteTime": {
     "end_time": "2019-12-24T02:16:41.053543Z",
     "start_time": "2019-12-24T02:16:40.142475Z"
    }
   },
   "outputs": [],
   "source": [
    "import pandas as pd\n",
    "import matplotlib.pyplot as plt\n",
    "import sys\n",
    "sys.path.append('../tools/')\n",
    "import tools\n",
    "import numpy as np"
   ]
  },
  {
   "cell_type": "markdown",
   "metadata": {},
   "source": [
    "# Load Data"
   ]
  },
  {
   "cell_type": "code",
   "execution_count": 2,
   "metadata": {
    "ExecuteTime": {
     "end_time": "2019-12-24T02:16:41.102552Z",
     "start_time": "2019-12-24T02:16:41.055745Z"
    }
   },
   "outputs": [],
   "source": [
    "train = pd.read_csv('../data/train.csv')\n",
    "test = pd.read_csv('../data/test.csv')\n",
    "x_train = train.drop(['SalePrice', 'Id'],axis=1)\n",
    "y_train = train.SalePrice\n",
    "x_test = test.drop(['Id'],axis=1)"
   ]
  },
  {
   "cell_type": "code",
   "execution_count": 3,
   "metadata": {
    "ExecuteTime": {
     "end_time": "2019-12-24T02:16:41.258119Z",
     "start_time": "2019-12-24T02:16:41.104613Z"
    }
   },
   "outputs": [],
   "source": [
    "prc = tools.Process(x_train,x_test,y_train)\n",
    "prc_init = tools.Process(x_train,x_test,y_train)"
   ]
  },
  {
   "cell_type": "markdown",
   "metadata": {},
   "source": [
    "# Preprocess"
   ]
  },
  {
   "cell_type": "markdown",
   "metadata": {},
   "source": [
    "## Reject Outliers"
   ]
  },
  {
   "cell_type": "code",
   "execution_count": null,
   "metadata": {
    "ExecuteTime": {
     "end_time": "2019-12-24T02:16:41.388962Z",
     "start_time": "2019-12-24T02:16:40.157Z"
    }
   },
   "outputs": [],
   "source": [
    "save_index = prc.x_train[prc.x_train.GrLivArea < 4500].index.to_list()\n",
    "prc.x_train = prc.x_train.loc[save_index]\n",
    "prc.x_train.reset_index(drop = True, inplace = True)\n",
    "prc.y_train = prc.y_train.loc[save_index]\n",
    "prc.y_train.reset_index(drop = True, inplace = True)\n",
    "prc.update()"
   ]
  },
  {
   "cell_type": "markdown",
   "metadata": {
    "ExecuteTime": {
     "end_time": "2019-12-23T08:14:59.003852Z",
     "start_time": "2019-12-23T08:14:58.993138Z"
    }
   },
   "source": [
    "## Numeric to Categoric"
   ]
  },
  {
   "cell_type": "code",
   "execution_count": null,
   "metadata": {
    "ExecuteTime": {
     "end_time": "2019-12-24T02:16:41.390830Z",
     "start_time": "2019-12-24T02:16:40.164Z"
    }
   },
   "outputs": [],
   "source": [
    "prc.x_all['MSSubClass'] = prc.x_all['MSSubClass'].apply(str)\n",
    "prc.x_all['YrSold'] = prc.x_all['YrSold'].astype(str)\n",
    "prc.x_all['MoSold'] = prc.x_all['MoSold'].astype(str)\n",
    "prc.split()\n",
    "prc.update()"
   ]
  },
  {
   "cell_type": "markdown",
   "metadata": {},
   "source": [
    "## Fill MIssing Data"
   ]
  },
  {
   "cell_type": "code",
   "execution_count": null,
   "metadata": {
    "ExecuteTime": {
     "end_time": "2019-12-24T02:16:41.392565Z",
     "start_time": "2019-12-24T02:16:40.170Z"
    },
    "scrolled": true
   },
   "outputs": [],
   "source": [
    "prc.NANs(get_return=True,bar=False)"
   ]
  },
  {
   "cell_type": "code",
   "execution_count": null,
   "metadata": {
    "ExecuteTime": {
     "end_time": "2019-12-24T02:16:41.394148Z",
     "start_time": "2019-12-24T02:16:40.177Z"
    }
   },
   "outputs": [],
   "source": [
    "prc.NANs(bar=False, plot=True)"
   ]
  },
  {
   "cell_type": "code",
   "execution_count": null,
   "metadata": {
    "ExecuteTime": {
     "end_time": "2019-12-24T02:16:41.395816Z",
     "start_time": "2019-12-24T02:16:40.185Z"
    }
   },
   "outputs": [],
   "source": [
    "### Filling these with MODE , i.e. , the most frequent value in these columns .\n",
    "prc.x_all['Functional'] = prc.x_all['Functional'].fillna(prc.x_all['Functional'].mode()[0]) \n",
    "prc.x_all['Electrical'] = prc.x_all['Electrical'].fillna(prc.x_all['Electrical'].mode()[0]) \n",
    "prc.x_all['KitchenQual'] = prc.x_all['KitchenQual'].fillna(prc.x_all['KitchenQual'].mode()[0]) \n",
    "prc.x_all['Exterior1st'] = prc.x_all['Exterior1st'].fillna(prc.x_all['Exterior1st'].mode()[0]) \n",
    "prc.x_all['Exterior2nd'] = prc.x_all['Exterior2nd'].fillna(prc.x_all['Exterior2nd'].mode()[0])\n",
    "prc.x_all['SaleType'] = prc.x_all['SaleType'].fillna(prc.x_all['SaleType'].mode()[0])\n",
    "\n",
    "### Missing data in GarageYrBit most probably means missing Garage , so replace NaN with zero . \n",
    "for col in ('GarageYrBlt', 'GarageArea', 'GarageCars'):\n",
    "    prc.x_all[col] = prc.x_all[col].fillna(0)\n",
    "for col in ['GarageType', 'GarageFinish', 'GarageQual', 'GarageCond']:\n",
    "    prc.x_all[col] = prc.x_all[col].fillna('None')\n",
    "\n",
    "### Same with basement\n",
    "for col in ('BsmtQual', 'BsmtCond', 'BsmtExposure', 'BsmtFinType1', 'BsmtFinType2'):\n",
    "    prc.x_all[col] = prc.x_all[col].fillna('None')\n",
    "    \n",
    "### Same with pool    \n",
    "prc.x_all['PoolQC'] = prc.x_all['PoolQC'].fillna('None')\n",
    "    \n",
    "### Filll the missing values of MSZoning with the mode (The frequently category appearing) By each MSsubclass  \n",
    "prc.x_all['MSZoning'] = prc.x_all.groupby('MSSubClass')['MSZoning'].transform(lambda x: x.fillna(x.mode()[0]))\n",
    "\n",
    "### Filll the missing values of LotFrontage with the mode (The frequently category appearing) By each Neighborhood \n",
    "prc.x_all['LotFrontage'] = prc.x_all.groupby('Neighborhood')['LotFrontage'].transform(lambda x: x.fillna(x.median()))\n",
    "    \n",
    "prc.split()\n",
    "prc.update()"
   ]
  },
  {
   "cell_type": "code",
   "execution_count": null,
   "metadata": {
    "ExecuteTime": {
     "end_time": "2019-12-24T02:16:41.397519Z",
     "start_time": "2019-12-24T02:16:40.191Z"
    }
   },
   "outputs": [],
   "source": [
    "prc.fill(\n",
    "    fill_method_num=0,\n",
    "    fill_method_object='None',\n",
    "    inplace=True)"
   ]
  },
  {
   "cell_type": "markdown",
   "metadata": {},
   "source": [
    "## Fix skews"
   ]
  },
  {
   "cell_type": "code",
   "execution_count": null,
   "metadata": {
    "ExecuteTime": {
     "end_time": "2019-12-24T02:16:41.399305Z",
     "start_time": "2019-12-24T02:16:40.197Z"
    }
   },
   "outputs": [],
   "source": [
    "prc.transY(method='log', inplace=True)\n",
    "prc.transF(\n",
    "    threshold=0.5,\n",
    "    method='boxcox',\n",
    "    inplace=True)"
   ]
  },
  {
   "cell_type": "markdown",
   "metadata": {},
   "source": [
    "## Make Features"
   ]
  },
  {
   "cell_type": "code",
   "execution_count": null,
   "metadata": {
    "ExecuteTime": {
     "end_time": "2019-12-24T02:16:41.401378Z",
     "start_time": "2019-12-24T02:16:40.203Z"
    }
   },
   "outputs": [],
   "source": [
    "prc.x_all = prc.x_all.drop(['Utilities', 'Street', 'PoolQC',], axis=1)\n",
    "\n",
    "prc.x_all['YrBltAndRemod']=prc.x_all['YearBuilt']+prc.x_all['YearRemodAdd']\n",
    "prc.x_all['TotalSF']=prc.x_all['TotalBsmtSF'] + prc.x_all['1stFlrSF'] + prc.x_all['2ndFlrSF']\n",
    "\n",
    "prc.x_all['Total_sqr_footage'] = (prc.x_all['BsmtFinSF1'] + prc.x_all['BsmtFinSF2'] +\n",
    "                                 prc.x_all['1stFlrSF'] + prc.x_all['2ndFlrSF'])\n",
    "\n",
    "prc.x_all['Total_Bathrooms'] = (prc.x_all['FullBath'] + (0.5 * prc.x_all['HalfBath']) +\n",
    "                               prc.x_all['BsmtFullBath'] + (0.5 * prc.x_all['BsmtHalfBath']))\n",
    "\n",
    "prc.x_all['Total_porch_sf'] = (prc.x_all['OpenPorchSF'] + prc.x_all['3SsnPorch'] +\n",
    "                              prc.x_all['EnclosedPorch'] + prc.x_all['ScreenPorch'] +\n",
    "                              prc.x_all['WoodDeckSF'])\n",
    "\n",
    "prc.x_all['haspool'] = prc.x_all['PoolArea'].apply(lambda x: 1 if x > 0 else 0)\n",
    "prc.x_all['has2ndfloor'] = prc.x_all['2ndFlrSF'].apply(lambda x: 1 if x > 0 else 0)\n",
    "prc.x_all['hasgarage'] = prc.x_all['GarageArea'].apply(lambda x: 1 if x > 0 else 0)\n",
    "prc.x_all['hasbsmt'] = prc.x_all['TotalBsmtSF'].apply(lambda x: 1 if x > 0 else 0)\n",
    "prc.x_all['hasfireplace'] = prc.x_all['Fireplaces'].apply(lambda x: 1 if x > 0 else 0)\n",
    "\n",
    "prc.split()\n",
    "prc.update()"
   ]
  },
  {
   "cell_type": "markdown",
   "metadata": {
    "ExecuteTime": {
     "end_time": "2019-12-23T08:28:24.136882Z",
     "start_time": "2019-12-23T08:28:24.121675Z"
    }
   },
   "source": [
    "## Get Dummies"
   ]
  },
  {
   "cell_type": "code",
   "execution_count": null,
   "metadata": {
    "ExecuteTime": {
     "end_time": "2019-12-24T02:16:41.403111Z",
     "start_time": "2019-12-24T02:16:40.208Z"
    }
   },
   "outputs": [],
   "source": [
    "prc.x_all = pd.get_dummies(prc.x_all).reset_index(drop=True)\n",
    "prc.split()\n",
    "prc.update()\n",
    "prc.x_all.shape"
   ]
  },
  {
   "cell_type": "markdown",
   "metadata": {},
   "source": [
    "## Split"
   ]
  },
  {
   "cell_type": "code",
   "execution_count": null,
   "metadata": {
    "ExecuteTime": {
     "end_time": "2019-12-24T02:16:41.404908Z",
     "start_time": "2019-12-24T02:16:40.214Z"
    }
   },
   "outputs": [],
   "source": [
    "X = prc.x_train\n",
    "X_test = prc.x_test\n",
    "y = prc.y_train\n",
    "X.shape, y.shape, X_test.shape"
   ]
  },
  {
   "cell_type": "markdown",
   "metadata": {},
   "source": [
    "## Option"
   ]
  },
  {
   "cell_type": "code",
   "execution_count": null,
   "metadata": {
    "ExecuteTime": {
     "end_time": "2019-12-24T02:16:41.406510Z",
     "start_time": "2019-12-24T02:16:40.219Z"
    }
   },
   "outputs": [],
   "source": [
    "outliers = [30, 88, 462, 631, 1322]\n",
    "X = X.drop(X.index[outliers])\n",
    "y = y.drop(y.index[outliers])\n",
    "\n",
    "overfit = []\n",
    "for i in X.columns:\n",
    "    counts = X[i].value_counts()\n",
    "    zeros = counts.iloc[0]\n",
    "    if zeros / len(X) * 100 > 99.94:\n",
    "        overfit.append(i)\n",
    "\n",
    "overfit = list(overfit)\n",
    "X = X.drop(overfit, axis=1)\n",
    "X_test = X_test.drop(overfit, axis=1)\n",
    "overfit"
   ]
  },
  {
   "cell_type": "code",
   "execution_count": null,
   "metadata": {
    "ExecuteTime": {
     "end_time": "2019-12-24T02:16:41.408018Z",
     "start_time": "2019-12-24T02:16:40.223Z"
    }
   },
   "outputs": [],
   "source": [
    "X.shape, y.shape, X_test.shape"
   ]
  },
  {
   "cell_type": "markdown",
   "metadata": {},
   "source": [
    "# Regression"
   ]
  },
  {
   "cell_type": "markdown",
   "metadata": {},
   "source": [
    "## Modules"
   ]
  },
  {
   "cell_type": "code",
   "execution_count": null,
   "metadata": {
    "ExecuteTime": {
     "end_time": "2019-12-24T02:16:41.409487Z",
     "start_time": "2019-12-24T02:16:40.229Z"
    }
   },
   "outputs": [],
   "source": [
    "from datetime import datetime\n",
    "from scipy.stats import skew  # for some statistics\n",
    "from scipy.special import boxcox1p\n",
    "from scipy.stats import boxcox_normmax\n",
    "from sklearn.linear_model import ElasticNetCV, LassoCV, RidgeCV\n",
    "from sklearn.ensemble import GradientBoostingRegressor\n",
    "from sklearn.svm import SVR\n",
    "from sklearn.pipeline import make_pipeline\n",
    "from sklearn.preprocessing import RobustScaler\n",
    "from sklearn.model_selection import KFold, cross_val_score\n",
    "from sklearn.metrics import mean_squared_error\n",
    "from mlxtend.regressor import StackingCVRegressor\n",
    "from xgboost import XGBRegressor\n",
    "from lightgbm import LGBMRegressor"
   ]
  },
  {
   "cell_type": "markdown",
   "metadata": {},
   "source": [
    "## Scaling"
   ]
  },
  {
   "cell_type": "code",
   "execution_count": null,
   "metadata": {
    "ExecuteTime": {
     "end_time": "2019-12-24T02:16:41.410943Z",
     "start_time": "2019-12-24T02:16:40.234Z"
    }
   },
   "outputs": [],
   "source": [
    "tmp_all = pd.concat([X, X_test], sort=False, ignore_index=True, axis=0)\n",
    "transformer = RobustScaler().fit(tmp_all)\n",
    "X = transformer.transform(X)\n",
    "X_test = transformer.transform(X_test)"
   ]
  },
  {
   "cell_type": "markdown",
   "metadata": {},
   "source": [
    "## Modeling"
   ]
  },
  {
   "cell_type": "markdown",
   "metadata": {},
   "source": [
    "### Setup for Cross Validation"
   ]
  },
  {
   "cell_type": "code",
   "execution_count": null,
   "metadata": {
    "ExecuteTime": {
     "end_time": "2019-12-24T02:16:41.412336Z",
     "start_time": "2019-12-24T02:16:40.239Z"
    }
   },
   "outputs": [],
   "source": [
    "kfolds = KFold(n_splits=10, shuffle=True, random_state=42)\n",
    "\n",
    "def rmsle(y, y_pred):\n",
    "    return np.sqrt(mean_squared_error(y, y_pred))\n",
    "\n",
    "def cv_rmse(model, X=X):\n",
    "    rmse = np.sqrt(-cross_val_score(model, X, y, scoring=\"neg_mean_squared_error\", cv=kfolds))\n",
    "    return (rmse)"
   ]
  },
  {
   "cell_type": "markdown",
   "metadata": {},
   "source": [
    "### Models"
   ]
  },
  {
   "cell_type": "code",
   "execution_count": null,
   "metadata": {
    "ExecuteTime": {
     "end_time": "2019-12-24T02:16:41.413996Z",
     "start_time": "2019-12-24T02:16:40.244Z"
    }
   },
   "outputs": [],
   "source": [
    "alphas_alt = [14.5, 14.6, 14.7, 14.8, 14.9, 15, 15.1, 15.2, 15.3, 15.4, 15.5]\n",
    "alphas2 = [5e-05, 0.0001, 0.0002, 0.0003, 0.0004, 0.0005, 0.0006, 0.0007, 0.0008]\n",
    "e_alphas = [0.0001, 0.0002, 0.0003, 0.0004, 0.0005, 0.0006, 0.0007]\n",
    "e_l1ratio = [0.8, 0.85, 0.9, 0.95, 0.99, 1]"
   ]
  },
  {
   "cell_type": "code",
   "execution_count": null,
   "metadata": {
    "ExecuteTime": {
     "end_time": "2019-12-24T02:16:41.415811Z",
     "start_time": "2019-12-24T02:16:40.248Z"
    }
   },
   "outputs": [],
   "source": [
    "ridge = make_pipeline(RobustScaler(), RidgeCV(alphas=alphas_alt, cv=kfolds))\n",
    "lasso = make_pipeline(RobustScaler(), LassoCV(max_iter=1e7, alphas=alphas2, random_state=42, cv=kfolds))\n",
    "elasticnet = make_pipeline(RobustScaler(), ElasticNetCV(max_iter=1e7, alphas=e_alphas, cv=kfolds, l1_ratio=e_l1ratio))                                \n",
    "svr = make_pipeline(RobustScaler(), SVR(C= 20, epsilon= 0.008, gamma=0.0003,))"
   ]
  },
  {
   "cell_type": "code",
   "execution_count": null,
   "metadata": {
    "ExecuteTime": {
     "end_time": "2019-12-24T02:16:41.417578Z",
     "start_time": "2019-12-24T02:16:40.252Z"
    }
   },
   "outputs": [],
   "source": [
    "gbr = GradientBoostingRegressor(\n",
    "    n_estimators=3000, learning_rate=0.05, max_depth=4, max_features='sqrt',\n",
    "    min_samples_leaf=15, min_samples_split=10, loss='huber', random_state =42)                             "
   ]
  },
  {
   "cell_type": "code",
   "execution_count": null,
   "metadata": {
    "ExecuteTime": {
     "end_time": "2019-12-24T02:16:41.419298Z",
     "start_time": "2019-12-24T02:16:40.258Z"
    }
   },
   "outputs": [],
   "source": [
    "lightgbm = LGBMRegressor(objective='regression', \n",
    "                                       num_leaves=4,\n",
    "                                       learning_rate=0.01, \n",
    "                                       n_estimators=5000,\n",
    "                                       max_bin=200, \n",
    "                                       bagging_fraction=0.75,\n",
    "                                       bagging_freq=5, \n",
    "                                       bagging_seed=7,\n",
    "                                       feature_fraction=0.2,\n",
    "                                       feature_fraction_seed=7,\n",
    "                                       verbose=-1,\n",
    "                                       )\n",
    "\n",
    "xgboost = XGBRegressor(learning_rate=0.01,n_estimators=3460,\n",
    "                                     max_depth=3, min_child_weight=0,\n",
    "                                     gamma=0, subsample=0.7,\n",
    "                                     colsample_bytree=0.7,\n",
    "                                     objective='reg:linear', nthread=-1,\n",
    "                                     scale_pos_weight=1, seed=27,\n",
    "                                     reg_alpha=0.00006)"
   ]
  },
  {
   "cell_type": "code",
   "execution_count": null,
   "metadata": {
    "ExecuteTime": {
     "end_time": "2019-12-24T02:16:41.420901Z",
     "start_time": "2019-12-24T02:16:40.262Z"
    }
   },
   "outputs": [],
   "source": [
    "stack_gen = StackingCVRegressor(regressors=(ridge, lasso, elasticnet, gbr, xgboost, lightgbm),\n",
    "                                meta_regressor=xgboost,\n",
    "                                use_features_in_secondary=True)"
   ]
  },
  {
   "cell_type": "markdown",
   "metadata": {},
   "source": [
    "### Each Model's Scores"
   ]
  },
  {
   "cell_type": "code",
   "execution_count": null,
   "metadata": {
    "ExecuteTime": {
     "end_time": "2019-12-24T02:16:41.422635Z",
     "start_time": "2019-12-24T02:16:40.267Z"
    },
    "scrolled": true
   },
   "outputs": [],
   "source": [
    "score = cv_rmse(ridge , X)\n",
    "score = cv_rmse(lasso , X)\n",
    "print(\"LASSO: {:.4f} ({:.4f})\\n\".format(score.mean(), score.std()), datetime.now(), )\n",
    "\n",
    "score = cv_rmse(elasticnet)\n",
    "print(\"Elastic net: {:.4f} ({:.4f})\\n\".format(score.mean(), score.std()), datetime.now(), )\n",
    "\n",
    "score = cv_rmse(svr)\n",
    "print(\"SVR: {:.4f} ({:.4f})\\n\".format(score.mean(), score.std()), datetime.now(), )\n",
    "\n",
    "score = cv_rmse(lightgbm)\n",
    "print(\"LightGBM: {:.4f} ({:.4f})\\n\".format(score.mean(), score.std()), datetime.now(), )\n",
    "\n",
    "score = cv_rmse(gbr)\n",
    "print(\"GBM: {:.4f} ({:.4f})\\n\".format(score.mean(), score.std()), datetime.now(), )\n",
    "\n",
    "score = cv_rmse(xgboost)\n",
    "print(\"XGBoost: {:.4f} ({:.4f})\\n\".format(score.mean(), score.std()), datetime.now(), )"
   ]
  },
  {
   "cell_type": "markdown",
   "metadata": {},
   "source": [
    "## Fit"
   ]
  },
  {
   "cell_type": "code",
   "execution_count": null,
   "metadata": {
    "ExecuteTime": {
     "end_time": "2019-12-24T02:16:41.424405Z",
     "start_time": "2019-12-24T02:16:40.271Z"
    },
    "scrolled": true
   },
   "outputs": [],
   "source": [
    "print('START Fit')\n",
    "\n",
    "print('stack_gen')\n",
    "stack_gen_model = stack_gen.fit(X, y)\n",
    "\n",
    "print('Elastic net')\n",
    "elastic_model_full_data = elasticnet.fit(X, y)\n",
    "\n",
    "print('Lasso')\n",
    "lasso_model_full_data = lasso.fit(X, y)\n",
    "\n",
    "print('Ridge')\n",
    "ridge_model_full_data = ridge.fit(X, y)\n",
    "\n",
    "print('Svr')\n",
    "svr_model_full_data = svr.fit(X, y)\n",
    "\n",
    "print('GradientBoosting')\n",
    "gbr_model_full_data = gbr.fit(X, y)\n",
    "\n",
    "print('XGBoost')\n",
    "xgb_model_full_data = xgboost.fit(X, y)\n",
    "\n",
    "print('LightGBM')\n",
    "lgb_model_full_data = lightgbm.fit(X, y)"
   ]
  },
  {
   "cell_type": "markdown",
   "metadata": {},
   "source": [
    "## Blending"
   ]
  },
  {
   "cell_type": "code",
   "execution_count": null,
   "metadata": {
    "ExecuteTime": {
     "end_time": "2019-12-24T02:16:41.426142Z",
     "start_time": "2019-12-24T02:16:40.276Z"
    },
    "code_folding": []
   },
   "outputs": [],
   "source": [
    "def blend_models_predict(X):\n",
    "    return ((0.1 * elastic_model_full_data.predict(X)) + \\\n",
    "            (0.05 * lasso_model_full_data.predict(X)) + \\\n",
    "            (0.1 * ridge_model_full_data.predict(X)) + \\\n",
    "            (0.1 * svr_model_full_data.predict(X)) + \\\n",
    "            (0.1 * gbr_model_full_data.predict(X)) + \\\n",
    "            (0.15 * xgb_model_full_data.predict(X)) + \\\n",
    "            (0.1 * lgb_model_full_data.predict(X)) + \\\n",
    "            (0.3 * stack_gen_model.predict(np.array(X))))"
   ]
  },
  {
   "cell_type": "code",
   "execution_count": null,
   "metadata": {
    "ExecuteTime": {
     "end_time": "2019-12-24T02:16:41.428165Z",
     "start_time": "2019-12-24T02:16:40.280Z"
    }
   },
   "outputs": [],
   "source": [
    "# def blend_models_predict(X):\n",
    "#     return (\n",
    "#             (0.4 * ridge_model_full_data.predict(X)) + \\\n",
    "#             (0.3 * svr_model_full_data.predict(X)) + \\\n",
    "#             (0.3 * lgb_model_full_data.predict(X)))"
   ]
  },
  {
   "cell_type": "code",
   "execution_count": null,
   "metadata": {
    "ExecuteTime": {
     "end_time": "2019-12-24T02:16:41.429929Z",
     "start_time": "2019-12-24T02:16:40.284Z"
    }
   },
   "outputs": [],
   "source": [
    "print('RMSLE score on train data:')\n",
    "print('Elastic : ', rmsle(y, elastic_model_full_data.predict(X)))\n",
    "print('Lasso : ', rmsle(y, lasso_model_full_data.predict(X)))\n",
    "print('Ridge : ', rmsle(y, ridge_model_full_data.predict(X)))\n",
    "print('SVR : ', rmsle(y, svr_model_full_data.predict(X)))\n",
    "print('GBR : ', rmsle(y, gbr_model_full_data.predict(X)))\n",
    "print('XGB : ', rmsle(y, xgb_model_full_data.predict(X)))\n",
    "print('LightGB : ', rmsle(y, lgb_model_full_data.predict(X)))\n",
    "print('Staking model : ', rmsle(y, stack_gen_model.predict(np.array(X))))\n",
    "print('Blending model : ', rmsle(y, blend_models_predict(X)))"
   ]
  },
  {
   "cell_type": "markdown",
   "metadata": {},
   "source": [
    "# Submit"
   ]
  },
  {
   "cell_type": "code",
   "execution_count": null,
   "metadata": {
    "ExecuteTime": {
     "end_time": "2019-12-24T02:16:41.431619Z",
     "start_time": "2019-12-24T02:16:40.288Z"
    }
   },
   "outputs": [],
   "source": [
    "print('Predict submission')\n",
    "submission = pd.read_csv(\"../data/sample_submission.csv\")\n",
    "submission.iloc[:,1] = (np.expm1(blend_models_predict(X_test)))\n",
    "# submission.iloc[:,1] = (np.expm1(ridge_model_full_data.predict(X_test)))"
   ]
  },
  {
   "cell_type": "code",
   "execution_count": null,
   "metadata": {
    "ExecuteTime": {
     "end_time": "2019-12-24T02:16:41.433405Z",
     "start_time": "2019-12-24T02:16:40.292Z"
    }
   },
   "outputs": [],
   "source": [
    "# q1 = submission['SalePrice'].quantile(0.0042)\n",
    "# q2 = submission['SalePrice'].quantile(0.99)\n",
    "# # Quantiles helping us get some extreme values for extremely low or high values \n",
    "# submission['SalePrice'] = submission['SalePrice'].apply(lambda x: x if x > q1 else x*0.77)\n",
    "# submission['SalePrice'] = submission['SalePrice'].apply(lambda x: x if x < q2 else x*1.1)"
   ]
  },
  {
   "cell_type": "code",
   "execution_count": null,
   "metadata": {
    "ExecuteTime": {
     "end_time": "2019-12-24T02:16:41.435185Z",
     "start_time": "2019-12-24T02:16:40.296Z"
    }
   },
   "outputs": [],
   "source": [
    "submission.to_csv(\"../data/submission_modified.csv\", index=False)"
   ]
  },
  {
   "cell_type": "code",
   "execution_count": null,
   "metadata": {
    "ExecuteTime": {
     "end_time": "2019-12-24T02:16:41.436920Z",
     "start_time": "2019-12-24T02:16:40.300Z"
    }
   },
   "outputs": [],
   "source": [
    "submission.head()"
   ]
  },
  {
   "cell_type": "markdown",
   "metadata": {},
   "source": [
    "# References"
   ]
  },
  {
   "cell_type": "markdown",
   "metadata": {},
   "source": [
    "- referenced kernel\\\n",
    "https://www.kaggle.com/niteshx2/top-50-beginners-stacking-lgb-xgb"
   ]
  }
 ],
 "metadata": {
  "kernelspec": {
   "display_name": "py37",
   "language": "python",
   "name": "py37"
  },
  "language_info": {
   "codemirror_mode": {
    "name": "ipython",
    "version": 3
   },
   "file_extension": ".py",
   "mimetype": "text/x-python",
   "name": "python",
   "nbconvert_exporter": "python",
   "pygments_lexer": "ipython3",
   "version": "3.7.3"
  },
  "toc": {
   "base_numbering": 1,
   "nav_menu": {},
   "number_sections": true,
   "sideBar": true,
   "skip_h1_title": false,
   "title_cell": "Table of Contents",
   "title_sidebar": "Contents",
   "toc_cell": false,
   "toc_position": {
    "height": "calc(100% - 180px)",
    "left": "10px",
    "top": "150px",
    "width": "288px"
   },
   "toc_section_display": true,
   "toc_window_display": false
  }
 },
 "nbformat": 4,
 "nbformat_minor": 2
}
