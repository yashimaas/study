{
 "cells": [
  {
   "cell_type": "code",
   "execution_count": 2,
   "metadata": {
    "ExecuteTime": {
     "end_time": "2019-12-24T02:34:54.030140Z",
     "start_time": "2019-12-24T02:34:54.019885Z"
    }
   },
   "outputs": [],
   "source": [
    "import numpy as np # linear algebra\n",
    "import pandas as pd # data processing, CSV file I/O (e.g. pd.read_csv)\n",
    "pd.set_option('display.width', 1000)\n",
    "\n",
    "# Plotting Tools\n",
    "import matplotlib.pyplot as plt\n",
    "plt.style.use('ggplot')\n",
    "import seaborn as sns\n",
    "\n",
    "# Import Sci-Kit Learn\n",
    "from sklearn.preprocessing import LabelEncoder\n",
    "from sklearn.preprocessing import Normalizer\n",
    "from sklearn.linear_model import LinearRegression, Lasso\n",
    "from sklearn.svm import SVR\n",
    "from sklearn.ensemble import RandomForestRegressor, AdaBoostRegressor, GradientBoostingRegressor, BaggingRegressor\n",
    "from sklearn.model_selection import train_test_split\n",
    "from sklearn.metrics import r2_score, mean_squared_error\n",
    "from sklearn.model_selection import RandomizedSearchCV, cross_val_score, StratifiedKFold, learning_curve, KFold\n",
    "\n",
    "# Ensemble Models\n",
    "from xgboost import XGBRegressor\n",
    "from lightgbm import LGBMRegressor\n",
    "\n",
    "# Package for stacking models\n",
    "from vecstack import stacking"
   ]
  },
  {
   "cell_type": "markdown",
   "metadata": {},
   "source": [
    "# Load Data"
   ]
  },
  {
   "cell_type": "code",
   "execution_count": 4,
   "metadata": {
    "ExecuteTime": {
     "end_time": "2019-12-24T02:36:37.630223Z",
     "start_time": "2019-12-24T02:36:37.565792Z"
    }
   },
   "outputs": [],
   "source": [
    "train = pd.read_csv('../data/train.csv', index_col='Id')\n",
    "test = pd.read_csv('../data/test.csv',index_col='Id')"
   ]
  },
  {
   "cell_type": "markdown",
   "metadata": {},
   "source": [
    "# Preprocess"
   ]
  },
  {
   "cell_type": "markdown",
   "metadata": {},
   "source": [
    "## Missing values"
   ]
  },
  {
   "cell_type": "code",
   "execution_count": 5,
   "metadata": {
    "ExecuteTime": {
     "end_time": "2019-12-24T02:37:33.182186Z",
     "start_time": "2019-12-24T02:37:33.163577Z"
    }
   },
   "outputs": [],
   "source": [
    "def fill_missing_values(df):\n",
    "    ''' This function imputes missing values with median for numeric columns \n",
    "        and most frequent value for categorical columns'''\n",
    "    missing = df.isnull().sum()\n",
    "    missing = missing[missing > 0]\n",
    "    for column in list(missing.index):\n",
    "        if df[column].dtype == 'object':\n",
    "            df[column].fillna(df[column].value_counts().index[0], inplace=True)\n",
    "        elif df[column].dtype == 'int64' or 'float64' or 'int16' or 'float16':\n",
    "            df[column].fillna(df[column].median(), inplace=True)"
   ]
  },
  {
   "cell_type": "code",
   "execution_count": 8,
   "metadata": {
    "ExecuteTime": {
     "end_time": "2019-12-24T02:38:03.486935Z",
     "start_time": "2019-12-24T02:38:03.420211Z"
    }
   },
   "outputs": [],
   "source": [
    "fill_missing_values(train)\n",
    "fill_missing_values(test)"
   ]
  },
  {
   "cell_type": "markdown",
   "metadata": {},
   "source": [
    "## Encode to numeric"
   ]
  },
  {
   "cell_type": "code",
   "execution_count": 9,
   "metadata": {
    "ExecuteTime": {
     "end_time": "2019-12-24T02:38:40.620199Z",
     "start_time": "2019-12-24T02:38:40.604406Z"
    }
   },
   "outputs": [],
   "source": [
    "def impute_cats(df):\n",
    "    '''This function converts categorical and non-numeric \n",
    "       columns into numeric columns to feed into a ML algorithm'''\n",
    "    # Find the columns of object type along with their column index\n",
    "    object_cols = list(df.select_dtypes(exclude=[np.number]).columns)\n",
    "    object_cols_ind = []\n",
    "    for col in object_cols:\n",
    "        object_cols_ind.append(df.columns.get_loc(col))\n",
    "\n",
    "    # Encode the categorical columns with numbers    \n",
    "    label_enc = LabelEncoder()\n",
    "    for i in object_cols_ind:\n",
    "        df.iloc[:,i] = label_enc.fit_transform(df.iloc[:,i])"
   ]
  },
  {
   "cell_type": "code",
   "execution_count": 10,
   "metadata": {
    "ExecuteTime": {
     "end_time": "2019-12-24T02:38:47.628708Z",
     "start_time": "2019-12-24T02:38:47.418402Z"
    }
   },
   "outputs": [],
   "source": [
    "impute_cats(train)\n",
    "impute_cats(test)"
   ]
  },
  {
   "cell_type": "markdown",
   "metadata": {},
   "source": [
    "# Modeling"
   ]
  },
  {
   "cell_type": "markdown",
   "metadata": {},
   "source": [
    "## Split"
   ]
  },
  {
   "cell_type": "code",
   "execution_count": 11,
   "metadata": {
    "ExecuteTime": {
     "end_time": "2019-12-24T02:41:21.834591Z",
     "start_time": "2019-12-24T02:41:21.824417Z"
    }
   },
   "outputs": [],
   "source": [
    "X = train.drop('SalePrice', axis=1)\n",
    "y = np.ravel(np.array(train[['SalePrice']]))\n",
    "\n",
    "X_train, X_test, y_train, y_test = train_test_split(X, y, test_size=0.2)"
   ]
  },
  {
   "cell_type": "markdown",
   "metadata": {},
   "source": [
    "## Evalutation Method"
   ]
  },
  {
   "cell_type": "code",
   "execution_count": 12,
   "metadata": {
    "ExecuteTime": {
     "end_time": "2019-12-24T02:42:04.688157Z",
     "start_time": "2019-12-24T02:42:04.675814Z"
    }
   },
   "outputs": [],
   "source": [
    "def rmse(y, y_pred):\n",
    "    return np.sqrt(mean_squared_error(np.log(y), np.log(y_pred)))"
   ]
  },
  {
   "cell_type": "markdown",
   "metadata": {},
   "source": [
    "## Models"
   ]
  },
  {
   "cell_type": "markdown",
   "metadata": {},
   "source": [
    "### Random Forest"
   ]
  },
  {
   "cell_type": "code",
   "execution_count": 13,
   "metadata": {
    "ExecuteTime": {
     "end_time": "2019-12-24T02:43:22.027002Z",
     "start_time": "2019-12-24T02:42:52.370490Z"
    }
   },
   "outputs": [
    {
     "data": {
      "text/plain": [
       "0.8494340388440896"
      ]
     },
     "execution_count": 13,
     "metadata": {},
     "output_type": "execute_result"
    }
   ],
   "source": [
    "random_forest = RandomForestRegressor(n_estimators=1200,\n",
    "                                      max_depth=15,\n",
    "                                      min_samples_split=5,\n",
    "                                      min_samples_leaf=5,\n",
    "                                      max_features=None,\n",
    "                                      random_state=42,\n",
    "                                      oob_score=True\n",
    "                                     )\n",
    "\n",
    "# Perform cross-validation to see how well our model does \n",
    "kf = KFold(n_splits=5)\n",
    "y_pred = cross_val_score(random_forest, X, y, cv=kf, n_jobs=-1)\n",
    "y_pred.mean()"
   ]
  },
  {
   "cell_type": "code",
   "execution_count": 14,
   "metadata": {
    "ExecuteTime": {
     "end_time": "2019-12-24T02:43:36.037526Z",
     "start_time": "2019-12-24T02:43:22.030126Z"
    }
   },
   "outputs": [
    {
     "data": {
      "text/plain": [
       "RandomForestRegressor(bootstrap=True, criterion='mse', max_depth=15,\n",
       "                      max_features=None, max_leaf_nodes=None,\n",
       "                      min_impurity_decrease=0.0, min_impurity_split=None,\n",
       "                      min_samples_leaf=5, min_samples_split=5,\n",
       "                      min_weight_fraction_leaf=0.0, n_estimators=1200,\n",
       "                      n_jobs=None, oob_score=True, random_state=42, verbose=0,\n",
       "                      warm_start=False)"
      ]
     },
     "execution_count": 14,
     "metadata": {},
     "output_type": "execute_result"
    }
   ],
   "source": [
    "random_forest.fit(X, y)"
   ]
  },
  {
   "cell_type": "code",
   "execution_count": 15,
   "metadata": {
    "ExecuteTime": {
     "end_time": "2019-12-24T02:43:40.247590Z",
     "start_time": "2019-12-24T02:43:40.041954Z"
    }
   },
   "outputs": [],
   "source": [
    "rf_pred = random_forest.predict(test)"
   ]
  },
  {
   "cell_type": "markdown",
   "metadata": {},
   "source": [
    "### XGBoost"
   ]
  },
  {
   "cell_type": "code",
   "execution_count": 16,
   "metadata": {
    "ExecuteTime": {
     "end_time": "2019-12-24T02:44:39.394192Z",
     "start_time": "2019-12-24T02:44:21.301751Z"
    }
   },
   "outputs": [
    {
     "data": {
      "text/plain": [
       "0.8960635840034354"
      ]
     },
     "execution_count": 16,
     "metadata": {},
     "output_type": "execute_result"
    }
   ],
   "source": [
    "xg_boost = XGBRegressor( learning_rate=0.01,\n",
    "                         n_estimators=6000,\n",
    "                         max_depth=4, min_child_weight=1,\n",
    "                         gamma=0.6, subsample=0.7,\n",
    "                         colsample_bytree=0.2,\n",
    "                         objective='reg:linear', nthread=-1,\n",
    "                         scale_pos_weight=1, seed=27,\n",
    "                         reg_alpha=0.00006\n",
    "                       )\n",
    "\n",
    "# Perform cross-validation to see how well our model does \n",
    "kf = KFold(n_splits=5)\n",
    "y_pred = cross_val_score(xg_boost, X, y, cv=kf, n_jobs=-1)\n",
    "y_pred.mean()"
   ]
  },
  {
   "cell_type": "code",
   "execution_count": 17,
   "metadata": {
    "ExecuteTime": {
     "end_time": "2019-12-24T02:44:55.218077Z",
     "start_time": "2019-12-24T02:44:50.392822Z"
    }
   },
   "outputs": [
    {
     "name": "stdout",
     "output_type": "stream",
     "text": [
      "[11:44:50] WARNING: src/objective/regression_obj.cu:152: reg:linear is now deprecated in favor of reg:squarederror.\n"
     ]
    },
    {
     "data": {
      "text/plain": [
       "XGBRegressor(base_score=0.5, booster='gbtree', colsample_bylevel=1,\n",
       "             colsample_bynode=1, colsample_bytree=0.2, gamma=0.6,\n",
       "             importance_type='gain', learning_rate=0.01, max_delta_step=0,\n",
       "             max_depth=4, min_child_weight=1, missing=None, n_estimators=6000,\n",
       "             n_jobs=1, nthread=-1, objective='reg:linear', random_state=0,\n",
       "             reg_alpha=6e-05, reg_lambda=1, scale_pos_weight=1, seed=27,\n",
       "             silent=None, subsample=0.7, verbosity=1)"
      ]
     },
     "execution_count": 17,
     "metadata": {},
     "output_type": "execute_result"
    }
   ],
   "source": [
    "xg_boost.fit(X,y)"
   ]
  },
  {
   "cell_type": "code",
   "execution_count": 19,
   "metadata": {
    "ExecuteTime": {
     "end_time": "2019-12-24T02:45:14.170674Z",
     "start_time": "2019-12-24T02:45:13.933242Z"
    }
   },
   "outputs": [],
   "source": [
    "xgb_pred = xg_boost.predict(test)"
   ]
  },
  {
   "cell_type": "markdown",
   "metadata": {},
   "source": [
    "### GBM"
   ]
  },
  {
   "cell_type": "code",
   "execution_count": 20,
   "metadata": {
    "ExecuteTime": {
     "end_time": "2019-12-24T02:50:56.957260Z",
     "start_time": "2019-12-24T02:50:44.548061Z"
    }
   },
   "outputs": [
    {
     "data": {
      "text/plain": [
       "0.8914454142357885"
      ]
     },
     "execution_count": 20,
     "metadata": {},
     "output_type": "execute_result"
    }
   ],
   "source": [
    "g_boost = GradientBoostingRegressor( n_estimators=6000, learning_rate=0.01,\n",
    "                                     max_depth=5, max_features='sqrt',\n",
    "                                     min_samples_leaf=15, min_samples_split=10,\n",
    "                                     loss='ls', random_state =42\n",
    "                                   )\n",
    "\n",
    "# Perform cross-validation to see how well our model does \n",
    "kf = KFold(n_splits=5)\n",
    "y_pred = cross_val_score(g_boost, X, y, cv=kf, n_jobs=-1)\n",
    "y_pred.mean()"
   ]
  },
  {
   "cell_type": "code",
   "execution_count": 21,
   "metadata": {
    "ExecuteTime": {
     "end_time": "2019-12-24T02:52:55.004494Z",
     "start_time": "2019-12-24T02:52:49.566305Z"
    }
   },
   "outputs": [
    {
     "data": {
      "text/plain": [
       "GradientBoostingRegressor(alpha=0.9, criterion='friedman_mse', init=None,\n",
       "                          learning_rate=0.01, loss='ls', max_depth=5,\n",
       "                          max_features='sqrt', max_leaf_nodes=None,\n",
       "                          min_impurity_decrease=0.0, min_impurity_split=None,\n",
       "                          min_samples_leaf=15, min_samples_split=10,\n",
       "                          min_weight_fraction_leaf=0.0, n_estimators=6000,\n",
       "                          n_iter_no_change=None, presort='auto',\n",
       "                          random_state=42, subsample=1.0, tol=0.0001,\n",
       "                          validation_fraction=0.1, verbose=0, warm_start=False)"
      ]
     },
     "execution_count": 21,
     "metadata": {},
     "output_type": "execute_result"
    }
   ],
   "source": [
    "g_boost.fit(X,y)"
   ]
  },
  {
   "cell_type": "code",
   "execution_count": 22,
   "metadata": {
    "ExecuteTime": {
     "end_time": "2019-12-24T02:52:58.521997Z",
     "start_time": "2019-12-24T02:52:58.333147Z"
    }
   },
   "outputs": [],
   "source": [
    "gbm_pred = g_boost.predict(test)"
   ]
  },
  {
   "cell_type": "markdown",
   "metadata": {},
   "source": [
    "### LightGBM"
   ]
  },
  {
   "cell_type": "code",
   "execution_count": 25,
   "metadata": {
    "ExecuteTime": {
     "end_time": "2019-12-24T02:53:53.008021Z",
     "start_time": "2019-12-24T02:53:44.299956Z"
    }
   },
   "outputs": [
    {
     "name": "stdout",
     "output_type": "stream",
     "text": [
      "0.8915140847664912\n"
     ]
    }
   ],
   "source": [
    "lightgbm = LGBMRegressor(objective='regression', \n",
    "                                       num_leaves=6,\n",
    "                                       learning_rate=0.01, \n",
    "                                       n_estimators=6400,\n",
    "                                       verbose=-1,\n",
    "                                       bagging_fraction=0.80,\n",
    "                                       bagging_freq=4, \n",
    "                                       bagging_seed=6,\n",
    "                                       feature_fraction=0.2,\n",
    "                                       feature_fraction_seed=7,\n",
    "                                    )\n",
    "\n",
    "# Perform cross-validation to see how well our model does\n",
    "kf = KFold(n_splits=5)\n",
    "y_pred = cross_val_score(lightgbm, X, y, cv=kf)\n",
    "print(y_pred.mean())"
   ]
  },
  {
   "cell_type": "code",
   "execution_count": 26,
   "metadata": {
    "ExecuteTime": {
     "end_time": "2019-12-24T02:53:55.235430Z",
     "start_time": "2019-12-24T02:53:53.010713Z"
    }
   },
   "outputs": [
    {
     "data": {
      "text/plain": [
       "LGBMRegressor(bagging_fraction=0.8, bagging_freq=4, bagging_seed=6,\n",
       "              boosting_type='gbdt', class_weight=None, colsample_bytree=1.0,\n",
       "              feature_fraction=0.2, feature_fraction_seed=7,\n",
       "              importance_type='split', learning_rate=0.01, max_depth=-1,\n",
       "              min_child_samples=20, min_child_weight=0.001, min_split_gain=0.0,\n",
       "              n_estimators=6400, n_jobs=-1, num_leaves=6,\n",
       "              objective='regression', random_state=None, reg_alpha=0.0,\n",
       "              reg_lambda=0.0, silent=True, subsample=1.0,\n",
       "              subsample_for_bin=200000, subsample_freq=0, verbose=-1)"
      ]
     },
     "execution_count": 26,
     "metadata": {},
     "output_type": "execute_result"
    }
   ],
   "source": [
    "lightgbm.fit(X,y)"
   ]
  },
  {
   "cell_type": "code",
   "execution_count": 27,
   "metadata": {
    "ExecuteTime": {
     "end_time": "2019-12-24T02:54:00.190041Z",
     "start_time": "2019-12-24T02:53:59.908774Z"
    }
   },
   "outputs": [],
   "source": [
    "lgb_pred = lightgbm.predict(test)"
   ]
  },
  {
   "cell_type": "markdown",
   "metadata": {},
   "source": [
    "## Model Stacking"
   ]
  },
  {
   "cell_type": "code",
   "execution_count": 28,
   "metadata": {
    "ExecuteTime": {
     "end_time": "2019-12-24T02:54:38.470440Z",
     "start_time": "2019-12-24T02:54:38.464103Z"
    }
   },
   "outputs": [],
   "source": [
    "models = [g_boost, xg_boost, lightgbm, random_forest]"
   ]
  },
  {
   "cell_type": "code",
   "execution_count": 29,
   "metadata": {
    "ExecuteTime": {
     "end_time": "2019-12-24T02:56:15.972133Z",
     "start_time": "2019-12-24T02:54:47.647727Z"
    }
   },
   "outputs": [
    {
     "name": "stdout",
     "output_type": "stream",
     "text": [
      "task:         [regression]\n",
      "metric:       [rmse]\n",
      "mode:         [oof_pred_bag]\n",
      "n_models:     [4]\n",
      "\n",
      "model  0:     [GradientBoostingRegressor]\n",
      "    fold  0:  [0.11893627]\n",
      "    fold  1:  [0.12260056]\n",
      "    fold  2:  [0.12062185]\n",
      "    fold  3:  [0.16349516]\n",
      "    fold  4:  [0.09751756]\n",
      "    ----\n",
      "    MEAN:     [0.12463428] + [0.02143916]\n",
      "    FULL:     [0.12645038]\n",
      "\n",
      "model  1:     [XGBRegressor]\n",
      "[11:55:06] WARNING: src/objective/regression_obj.cu:152: reg:linear is now deprecated in favor of reg:squarederror.\n",
      "    fold  0:  [0.10705546]\n",
      "[11:55:10] WARNING: src/objective/regression_obj.cu:152: reg:linear is now deprecated in favor of reg:squarederror.\n",
      "    fold  1:  [0.11524596]\n",
      "[11:55:13] WARNING: src/objective/regression_obj.cu:152: reg:linear is now deprecated in favor of reg:squarederror.\n",
      "    fold  2:  [0.11626870]\n",
      "[11:55:17] WARNING: src/objective/regression_obj.cu:152: reg:linear is now deprecated in favor of reg:squarederror.\n",
      "    fold  3:  [0.16017620]\n",
      "[11:55:20] WARNING: src/objective/regression_obj.cu:152: reg:linear is now deprecated in favor of reg:squarederror.\n",
      "    fold  4:  [0.08977570]\n",
      "    ----\n",
      "    MEAN:     [0.11770440] + [0.02326100]\n",
      "    FULL:     [0.11996326]\n",
      "\n",
      "model  2:     [LGBMRegressor]\n",
      "    fold  0:  [0.11854449]\n",
      "    fold  1:  [0.11880475]\n",
      "    fold  2:  [0.12104769]\n",
      "    fold  3:  [0.16468621]\n",
      "    fold  4:  [0.09334686]\n",
      "    ----\n",
      "    MEAN:     [0.12328600] + [0.02305603]\n",
      "    FULL:     [0.12540843]\n",
      "\n",
      "model  3:     [RandomForestRegressor]\n",
      "    fold  0:  [0.14112769]\n",
      "    fold  1:  [0.14892261]\n",
      "    fold  2:  [0.13743593]\n",
      "    fold  3:  [0.17592916]\n",
      "    fold  4:  [0.12691530]\n",
      "    ----\n",
      "    MEAN:     [0.14606614] + [0.01652624]\n",
      "    FULL:     [0.14698689]\n",
      "\n"
     ]
    }
   ],
   "source": [
    "S_train, S_test = stacking(models,\n",
    "                           X_train, y_train, X_test,\n",
    "                           regression=True,\n",
    "                           mode='oof_pred_bag',\n",
    "                           metric=rmse,\n",
    "                           n_folds=5,\n",
    "                           random_state=25,\n",
    "                           verbose=2\n",
    "                          )"
   ]
  },
  {
   "cell_type": "code",
   "execution_count": 30,
   "metadata": {
    "ExecuteTime": {
     "end_time": "2019-12-24T02:57:53.189829Z",
     "start_time": "2019-12-24T02:57:53.009205Z"
    }
   },
   "outputs": [
    {
     "name": "stdout",
     "output_type": "stream",
     "text": [
      "[11:57:53] WARNING: src/objective/regression_obj.cu:152: reg:linear is now deprecated in favor of reg:squarederror.\n"
     ]
    },
    {
     "data": {
      "text/plain": [
       "XGBRegressor(base_score=0.5, booster='gbtree', colsample_bylevel=1,\n",
       "             colsample_bynode=1, colsample_bytree=1, gamma=0,\n",
       "             importance_type='gain', learning_rate=0.1, max_delta_step=0,\n",
       "             max_depth=3, min_child_weight=1, missing=None, n_estimators=500,\n",
       "             n_jobs=-1, nthread=None, objective='reg:linear', random_state=17,\n",
       "             reg_alpha=0, reg_lambda=1, scale_pos_weight=1, seed=None,\n",
       "             silent=None, subsample=1, verbosity=1)"
      ]
     },
     "execution_count": 30,
     "metadata": {},
     "output_type": "execute_result"
    }
   ],
   "source": [
    "xgb_lev2 = XGBRegressor(learning_rate=0.1, \n",
    "                        n_estimators=500,\n",
    "                        max_depth=3,\n",
    "                        n_jobs=-1,\n",
    "                        random_state=17\n",
    "                       )\n",
    "\n",
    "# Fit the 2nd level model on the output of level 1\n",
    "xgb_lev2.fit(S_train, y_train)"
   ]
  },
  {
   "cell_type": "code",
   "execution_count": 32,
   "metadata": {
    "ExecuteTime": {
     "end_time": "2019-12-24T02:58:26.354950Z",
     "start_time": "2019-12-24T02:58:26.339241Z"
    }
   },
   "outputs": [
    {
     "name": "stdout",
     "output_type": "stream",
     "text": [
      "RMSE of Stacked Model: 0.15025832226450453\n"
     ]
    }
   ],
   "source": [
    "stacked_pred = xgb_lev2.predict(S_test)\n",
    "print(\"RMSE of Stacked Model: {}\".format(rmse(y_test,stacked_pred)))"
   ]
  },
  {
   "cell_type": "code",
   "execution_count": null,
   "metadata": {},
   "outputs": [],
   "source": []
  },
  {
   "cell_type": "markdown",
   "metadata": {},
   "source": [
    "# References"
   ]
  },
  {
   "cell_type": "markdown",
   "metadata": {},
   "source": [
    "- referenced kernel\\\n",
    "https://www.kaggle.com/abhinand05/predicting-housingprices-simple-approach"
   ]
  }
 ],
 "metadata": {
  "kernelspec": {
   "display_name": "py37",
   "language": "python",
   "name": "py37"
  },
  "language_info": {
   "codemirror_mode": {
    "name": "ipython",
    "version": 3
   },
   "file_extension": ".py",
   "mimetype": "text/x-python",
   "name": "python",
   "nbconvert_exporter": "python",
   "pygments_lexer": "ipython3",
   "version": "3.7.3"
  },
  "toc": {
   "base_numbering": 1,
   "nav_menu": {},
   "number_sections": true,
   "sideBar": true,
   "skip_h1_title": false,
   "title_cell": "Table of Contents",
   "title_sidebar": "Contents",
   "toc_cell": false,
   "toc_position": {},
   "toc_section_display": true,
   "toc_window_display": false
  }
 },
 "nbformat": 4,
 "nbformat_minor": 2
}
