{
 "cells": [
  {
   "cell_type": "code",
   "execution_count": 1,
   "metadata": {
    "ExecuteTime": {
     "end_time": "2019-12-15T05:55:26.694106Z",
     "start_time": "2019-12-15T05:55:25.690139Z"
    }
   },
   "outputs": [],
   "source": [
    "# This Python 3 environment comes with many helpful analytics libraries installed\n",
    "# It is defined by the kaggle/python docker image: https://github.com/kaggle/docker-python\n",
    "# For example, here's several helpful packages to load in \n",
    "\n",
    "import numpy as np # linear algebra\n",
    "import pandas as pd # data processing, CSV file I/O (e.g. pd.read_csv)\n",
    "pd.set_option('display.width', 1000)\n",
    "\n",
    "# Plotting Tools\n",
    "import matplotlib.pyplot as plt\n",
    "plt.style.use('ggplot')\n",
    "import seaborn as sns\n",
    "\n",
    "# Import Sci-Kit Learn\n",
    "from sklearn.preprocessing import LabelEncoder\n",
    "from sklearn.preprocessing import Normalizer\n",
    "from sklearn.linear_model import LinearRegression, Lasso\n",
    "from sklearn.svm import SVR\n",
    "from sklearn.ensemble import RandomForestRegressor, AdaBoostRegressor, GradientBoostingRegressor, BaggingRegressor\n",
    "from sklearn.model_selection import train_test_split\n",
    "from sklearn.metrics import r2_score, mean_squared_error\n",
    "from sklearn.model_selection import RandomizedSearchCV, cross_val_score, StratifiedKFold, learning_curve, KFold\n",
    "\n",
    "# Ensemble Models\n",
    "from xgboost import XGBRegressor\n",
    "from lightgbm import LGBMRegressor\n",
    "\n",
    "# Package for stacking models\n",
    "from vecstack import stacking\n",
    "\n",
    "# Input data files are available in the \"../input/\" directory.\n",
    "# For example, running this (by clicking run or pressing Shift+Enter) will list the files in the input directory\n",
    "# import os\n",
    "# print(os.listdir(\"../input\"))\n",
    "\n",
    "# from IPython.display import display, HTML\n",
    "# display(HTML(\"\"\"\n",
    "# <style>\n",
    "# .output_png {\n",
    "#     display: table-cell;\n",
    "#     text-align: center;\n",
    "#     vertical-align: middle;\n",
    "# }\n",
    "# </style>\n",
    "# \"\"\"))\n"
   ]
  },
  {
   "cell_type": "code",
   "execution_count": 2,
   "metadata": {
    "ExecuteTime": {
     "end_time": "2019-12-15T05:55:26.743439Z",
     "start_time": "2019-12-15T05:55:26.696149Z"
    }
   },
   "outputs": [],
   "source": [
    "train = pd.read_csv('../data/train.csv', index_col='Id')\n",
    "\n",
    "# Bring test data into the environment\n",
    "test = pd.read_csv('../data/test.csv', index_col='Id')"
   ]
  },
  {
   "cell_type": "code",
   "execution_count": 3,
   "metadata": {
    "ExecuteTime": {
     "end_time": "2019-12-15T05:55:26.753857Z",
     "start_time": "2019-12-15T05:55:26.745556Z"
    }
   },
   "outputs": [],
   "source": [
    "def fill_missing_values(df):\n",
    "    ''' This function imputes missing values with median for numeric columns \n",
    "        and most frequent value for categorical columns'''\n",
    "    missing = df.isnull().sum()\n",
    "    missing = missing[missing > 0]\n",
    "    for column in list(missing.index):\n",
    "        if df[column].dtype == 'object':\n",
    "            df[column].fillna(df[column].value_counts().index[0], inplace=True)\n",
    "        elif df[column].dtype == 'int64' or 'float64' or 'int16' or 'float16':\n",
    "            df[column].fillna(df[column].median(), inplace=True)"
   ]
  },
  {
   "cell_type": "code",
   "execution_count": 4,
   "metadata": {
    "ExecuteTime": {
     "end_time": "2019-12-15T05:55:26.795188Z",
     "start_time": "2019-12-15T05:55:26.755518Z"
    }
   },
   "outputs": [
    {
     "data": {
      "text/plain": [
       "0"
      ]
     },
     "execution_count": 4,
     "metadata": {},
     "output_type": "execute_result"
    }
   ],
   "source": [
    "fill_missing_values(train)\n",
    "train.isnull().sum().max()"
   ]
  },
  {
   "cell_type": "code",
   "execution_count": 5,
   "metadata": {
    "ExecuteTime": {
     "end_time": "2019-12-15T05:55:26.850804Z",
     "start_time": "2019-12-15T05:55:26.797612Z"
    }
   },
   "outputs": [
    {
     "data": {
      "text/plain": [
       "0"
      ]
     },
     "execution_count": 5,
     "metadata": {},
     "output_type": "execute_result"
    }
   ],
   "source": [
    "fill_missing_values(test)\n",
    "test.isnull().sum().max()"
   ]
  },
  {
   "cell_type": "code",
   "execution_count": 6,
   "metadata": {
    "ExecuteTime": {
     "end_time": "2019-12-15T05:55:26.857234Z",
     "start_time": "2019-12-15T05:55:26.852479Z"
    }
   },
   "outputs": [],
   "source": [
    "def impute_cats(df):\n",
    "    '''This function converts categorical and non-numeric \n",
    "       columns into numeric columns to feed into a ML algorithm'''\n",
    "    # Find the columns of object type along with their column index\n",
    "    object_cols = list(df.select_dtypes(exclude=[np.number]).columns)\n",
    "    object_cols_ind = []\n",
    "    for col in object_cols:\n",
    "        object_cols_ind.append(df.columns.get_loc(col))\n",
    "\n",
    "    # Encode the categorical columns with numbers    \n",
    "    label_enc = LabelEncoder()\n",
    "    for i in object_cols_ind:\n",
    "        df.iloc[:,i] = label_enc.fit_transform(df.iloc[:,i])"
   ]
  },
  {
   "cell_type": "code",
   "execution_count": 7,
   "metadata": {
    "ExecuteTime": {
     "end_time": "2019-12-15T05:55:27.097189Z",
     "start_time": "2019-12-15T05:55:26.863261Z"
    }
   },
   "outputs": [
    {
     "name": "stdout",
     "output_type": "stream",
     "text": [
      "Train Dtype counts: \n",
      "int64      77\n",
      "float64     3\n",
      "dtype: int64\n",
      "Test Dtype counts: \n",
      "int64      68\n",
      "float64    11\n",
      "dtype: int64\n"
     ]
    }
   ],
   "source": [
    "impute_cats(train)\n",
    "impute_cats(test)\n",
    "print(\"Train Dtype counts: \\n{}\".format(train.dtypes.value_counts()))\n",
    "print(\"Test Dtype counts: \\n{}\".format(test.dtypes.value_counts()))"
   ]
  },
  {
   "cell_type": "code",
   "execution_count": 8,
   "metadata": {
    "ExecuteTime": {
     "end_time": "2019-12-15T05:55:27.107728Z",
     "start_time": "2019-12-15T05:55:27.099421Z"
    }
   },
   "outputs": [
    {
     "name": "stdout",
     "output_type": "stream",
     "text": [
      "(1460,)\n"
     ]
    }
   ],
   "source": [
    "X = train.drop('SalePrice', axis=1)\n",
    "y = np.ravel(np.array(train[['SalePrice']]))\n",
    "print(y.shape)"
   ]
  },
  {
   "cell_type": "code",
   "execution_count": 9,
   "metadata": {
    "ExecuteTime": {
     "end_time": "2019-12-15T05:55:27.117825Z",
     "start_time": "2019-12-15T05:55:27.110784Z"
    }
   },
   "outputs": [],
   "source": [
    "X_train, X_test, y_train, y_test = train_test_split(X, y, test_size=0.2)"
   ]
  },
  {
   "cell_type": "code",
   "execution_count": 10,
   "metadata": {
    "ExecuteTime": {
     "end_time": "2019-12-15T05:55:27.125684Z",
     "start_time": "2019-12-15T05:55:27.120296Z"
    }
   },
   "outputs": [],
   "source": [
    "def rmse(y, y_pred):\n",
    "    return np.sqrt(mean_squared_error(np.log(y), np.log(y_pred)))"
   ]
  },
  {
   "cell_type": "code",
   "execution_count": 50,
   "metadata": {
    "ExecuteTime": {
     "end_time": "2019-12-15T06:23:20.048837Z",
     "start_time": "2019-12-15T06:22:56.557280Z"
    }
   },
   "outputs": [
    {
     "data": {
      "text/plain": [
       "0.8493479398299717"
      ]
     },
     "execution_count": 50,
     "metadata": {},
     "output_type": "execute_result"
    }
   ],
   "source": [
    "random_forest = RandomForestRegressor(n_estimators=1000,\n",
    "                                      max_depth=15,\n",
    "                                      min_samples_split=5,\n",
    "                                      min_samples_leaf=5,\n",
    "                                      max_features=None,\n",
    "                                      random_state=42,\n",
    "                                      oob_score=True\n",
    "                                     )\n",
    "\n",
    "# Perform cross-validation to see how well our model does \n",
    "kf = KFold(n_splits=5)\n",
    "y_pred = cross_val_score(random_forest, X, y, cv=kf, n_jobs=-1)\n",
    "y_pred.mean()"
   ]
  },
  {
   "cell_type": "code",
   "execution_count": 51,
   "metadata": {
    "ExecuteTime": {
     "end_time": "2019-12-15T06:23:41.646655Z",
     "start_time": "2019-12-15T06:23:29.995646Z"
    }
   },
   "outputs": [
    {
     "data": {
      "text/plain": [
       "RandomForestRegressor(bootstrap=True, criterion='mse', max_depth=15,\n",
       "                      max_features=None, max_leaf_nodes=None,\n",
       "                      min_impurity_decrease=0.0, min_impurity_split=None,\n",
       "                      min_samples_leaf=5, min_samples_split=5,\n",
       "                      min_weight_fraction_leaf=0.0, n_estimators=1000,\n",
       "                      n_jobs=None, oob_score=True, random_state=42, verbose=0,\n",
       "                      warm_start=False)"
      ]
     },
     "execution_count": 51,
     "metadata": {},
     "output_type": "execute_result"
    }
   ],
   "source": [
    "random_forest.fit(X, y)"
   ]
  },
  {
   "cell_type": "code",
   "execution_count": 13,
   "metadata": {
    "ExecuteTime": {
     "end_time": "2019-12-15T05:56:13.822895Z",
     "start_time": "2019-12-15T05:56:13.620357Z"
    }
   },
   "outputs": [],
   "source": [
    "rf_pred = random_forest.predict(test)"
   ]
  },
  {
   "cell_type": "code",
   "execution_count": 49,
   "metadata": {
    "ExecuteTime": {
     "end_time": "2019-12-15T06:22:48.788948Z",
     "start_time": "2019-12-15T06:22:45.869494Z"
    }
   },
   "outputs": [
    {
     "data": {
      "text/plain": [
       "0.8914916422449725"
      ]
     },
     "execution_count": 49,
     "metadata": {},
     "output_type": "execute_result"
    }
   ],
   "source": [
    "xg_boost = XGBRegressor( learning_rate=0.01,\n",
    "                         n_estimators=1000,\n",
    "                         max_depth=4, min_child_weight=1,\n",
    "                         gamma=0.6, subsample=0.7,\n",
    "                         colsample_bytree=0.2,\n",
    "                         objective='reg:linear', nthread=-1,\n",
    "                         scale_pos_weight=1, seed=27,\n",
    "                         reg_alpha=0.00006\n",
    "                       )\n",
    "\n",
    "# Perform cross-validation to see how well our model does \n",
    "kf = KFold(n_splits=5)\n",
    "y_pred = cross_val_score(xg_boost, X, y, cv=kf, n_jobs=-1)\n",
    "y_pred.mean()"
   ]
  },
  {
   "cell_type": "code",
   "execution_count": 52,
   "metadata": {
    "ExecuteTime": {
     "end_time": "2019-12-15T06:23:45.451768Z",
     "start_time": "2019-12-15T06:23:44.647471Z"
    }
   },
   "outputs": [
    {
     "name": "stdout",
     "output_type": "stream",
     "text": [
      "[15:23:44] WARNING: src/objective/regression_obj.cu:152: reg:linear is now deprecated in favor of reg:squarederror.\n"
     ]
    },
    {
     "data": {
      "text/plain": [
       "XGBRegressor(base_score=0.5, booster='gbtree', colsample_bylevel=1,\n",
       "             colsample_bynode=1, colsample_bytree=0.2, gamma=0.6,\n",
       "             importance_type='gain', learning_rate=0.01, max_delta_step=0,\n",
       "             max_depth=4, min_child_weight=1, missing=None, n_estimators=1000,\n",
       "             n_jobs=1, nthread=-1, objective='reg:linear', random_state=0,\n",
       "             reg_alpha=6e-05, reg_lambda=1, scale_pos_weight=1, seed=27,\n",
       "             silent=None, subsample=0.7, verbosity=1)"
      ]
     },
     "execution_count": 52,
     "metadata": {},
     "output_type": "execute_result"
    }
   ],
   "source": [
    "xg_boost.fit(X,y)"
   ]
  },
  {
   "cell_type": "code",
   "execution_count": 16,
   "metadata": {
    "ExecuteTime": {
     "end_time": "2019-12-15T05:56:39.682697Z",
     "start_time": "2019-12-15T05:56:39.436150Z"
    }
   },
   "outputs": [],
   "source": [
    "xgb_pred = xg_boost.predict(test)"
   ]
  },
  {
   "cell_type": "code",
   "execution_count": 48,
   "metadata": {
    "ExecuteTime": {
     "end_time": "2019-12-15T06:22:40.674145Z",
     "start_time": "2019-12-15T06:22:37.173063Z"
    }
   },
   "outputs": [
    {
     "data": {
      "text/plain": [
       "0.884363534650392"
      ]
     },
     "execution_count": 48,
     "metadata": {},
     "output_type": "execute_result"
    }
   ],
   "source": [
    "g_boost = GradientBoostingRegressor( n_estimators=1000, learning_rate=0.01,\n",
    "                                     max_depth=5, max_features='sqrt',\n",
    "                                     min_samples_leaf=15, min_samples_split=10,\n",
    "                                     loss='ls', random_state =42\n",
    "                                   )\n",
    "\n",
    "# Perform cross-validation to see how well our model does \n",
    "kf = KFold(n_splits=5)\n",
    "y_pred = cross_val_score(g_boost, X, y, cv=kf, n_jobs=-1)\n",
    "y_pred.mean()"
   ]
  },
  {
   "cell_type": "code",
   "execution_count": 53,
   "metadata": {
    "ExecuteTime": {
     "end_time": "2019-12-15T06:23:49.484704Z",
     "start_time": "2019-12-15T06:23:48.567931Z"
    }
   },
   "outputs": [
    {
     "data": {
      "text/plain": [
       "GradientBoostingRegressor(alpha=0.9, criterion='friedman_mse', init=None,\n",
       "                          learning_rate=0.01, loss='ls', max_depth=5,\n",
       "                          max_features='sqrt', max_leaf_nodes=None,\n",
       "                          min_impurity_decrease=0.0, min_impurity_split=None,\n",
       "                          min_samples_leaf=15, min_samples_split=10,\n",
       "                          min_weight_fraction_leaf=0.0, n_estimators=1000,\n",
       "                          n_iter_no_change=None, presort='auto',\n",
       "                          random_state=42, subsample=1.0, tol=0.0001,\n",
       "                          validation_fraction=0.1, verbose=0, warm_start=False)"
      ]
     },
     "execution_count": 53,
     "metadata": {},
     "output_type": "execute_result"
    }
   ],
   "source": [
    "g_boost.fit(X,y)"
   ]
  },
  {
   "cell_type": "code",
   "execution_count": 19,
   "metadata": {
    "ExecuteTime": {
     "end_time": "2019-12-15T05:56:57.360100Z",
     "start_time": "2019-12-15T05:56:57.173177Z"
    }
   },
   "outputs": [],
   "source": [
    "gbm_pred = g_boost.predict(test)"
   ]
  },
  {
   "cell_type": "code",
   "execution_count": 47,
   "metadata": {
    "ExecuteTime": {
     "end_time": "2019-12-15T06:22:30.376684Z",
     "start_time": "2019-12-15T06:22:28.941182Z"
    }
   },
   "outputs": [
    {
     "name": "stdout",
     "output_type": "stream",
     "text": [
      "0.8804590420503298\n"
     ]
    }
   ],
   "source": [
    "lightgbm = LGBMRegressor(objective='regression', \n",
    "                                       num_leaves=6,\n",
    "                                       learning_rate=0.01, \n",
    "                                       n_estimators=1000,\n",
    "                                       verbose=-1,\n",
    "                                       bagging_fraction=0.80,\n",
    "                                       bagging_freq=4, \n",
    "                                       bagging_seed=6,\n",
    "                                       feature_fraction=0.2,\n",
    "                                       feature_fraction_seed=7,\n",
    "                                    )\n",
    "\n",
    "# Perform cross-validation to see how well our model does\n",
    "kf = KFold(n_splits=5)\n",
    "y_pred = cross_val_score(lightgbm, X, y, cv=kf)\n",
    "print(y_pred.mean())"
   ]
  },
  {
   "cell_type": "code",
   "execution_count": 54,
   "metadata": {
    "ExecuteTime": {
     "end_time": "2019-12-15T06:23:55.778481Z",
     "start_time": "2019-12-15T06:23:55.456271Z"
    }
   },
   "outputs": [
    {
     "data": {
      "text/plain": [
       "LGBMRegressor(bagging_fraction=0.8, bagging_freq=4, bagging_seed=6,\n",
       "              boosting_type='gbdt', class_weight=None, colsample_bytree=1.0,\n",
       "              feature_fraction=0.2, feature_fraction_seed=7,\n",
       "              importance_type='split', learning_rate=0.01, max_depth=-1,\n",
       "              min_child_samples=20, min_child_weight=0.001, min_split_gain=0.0,\n",
       "              n_estimators=1000, n_jobs=-1, num_leaves=6,\n",
       "              objective='regression', random_state=None, reg_alpha=0.0,\n",
       "              reg_lambda=0.0, silent=True, subsample=1.0,\n",
       "              subsample_for_bin=200000, subsample_freq=0, verbose=-1)"
      ]
     },
     "execution_count": 54,
     "metadata": {},
     "output_type": "execute_result"
    }
   ],
   "source": [
    "lightgbm.fit(X,y)"
   ]
  },
  {
   "cell_type": "code",
   "execution_count": 22,
   "metadata": {
    "ExecuteTime": {
     "end_time": "2019-12-15T05:57:14.293935Z",
     "start_time": "2019-12-15T05:57:13.959663Z"
    }
   },
   "outputs": [],
   "source": [
    "lgb_pred = lightgbm.predict(test)"
   ]
  },
  {
   "cell_type": "code",
   "execution_count": 55,
   "metadata": {
    "ExecuteTime": {
     "end_time": "2019-12-15T06:23:59.450203Z",
     "start_time": "2019-12-15T06:23:59.443639Z"
    }
   },
   "outputs": [],
   "source": [
    "models = [g_boost, xg_boost, lightgbm, random_forest]"
   ]
  },
  {
   "cell_type": "code",
   "execution_count": 85,
   "metadata": {
    "ExecuteTime": {
     "end_time": "2019-12-15T06:28:58.196166Z",
     "start_time": "2019-12-15T06:27:21.945124Z"
    }
   },
   "outputs": [
    {
     "name": "stdout",
     "output_type": "stream",
     "text": [
      "task:         [regression]\n",
      "metric:       [rmse]\n",
      "mode:         [oof_pred_bag]\n",
      "n_models:     [4]\n",
      "\n",
      "model  0:     [GradientBoostingRegressor]\n",
      "    fold  0:  [0.12414200]\n",
      "    fold  1:  [0.12755096]\n",
      "    fold  2:  [0.16596589]\n",
      "    fold  3:  [0.12087288]\n",
      "    fold  4:  [0.10329982]\n",
      "    fold  5:  [0.10962893]\n",
      "    fold  6:  [0.12590870]\n",
      "    fold  7:  [0.11884978]\n",
      "    fold  8:  [0.14650515]\n",
      "    fold  9:  [0.14610938]\n",
      "    ----\n",
      "    MEAN:     [0.12888335] + [0.01790411]\n",
      "    FULL:     [0.13009156]\n",
      "\n",
      "model  1:     [XGBRegressor]\n",
      "[15:27:28] WARNING: src/objective/regression_obj.cu:152: reg:linear is now deprecated in favor of reg:squarederror.\n",
      "    fold  0:  [0.12416987]\n",
      "[15:27:29] WARNING: src/objective/regression_obj.cu:152: reg:linear is now deprecated in favor of reg:squarederror.\n",
      "    fold  1:  [0.12605811]\n",
      "[15:27:30] WARNING: src/objective/regression_obj.cu:152: reg:linear is now deprecated in favor of reg:squarederror.\n",
      "    fold  2:  [0.15886614]\n",
      "[15:27:30] WARNING: src/objective/regression_obj.cu:152: reg:linear is now deprecated in favor of reg:squarederror.\n",
      "    fold  3:  [0.11313372]\n",
      "[15:27:31] WARNING: src/objective/regression_obj.cu:152: reg:linear is now deprecated in favor of reg:squarederror.\n",
      "    fold  4:  [0.11200514]\n",
      "[15:27:32] WARNING: src/objective/regression_obj.cu:152: reg:linear is now deprecated in favor of reg:squarederror.\n",
      "    fold  5:  [0.10811883]\n",
      "[15:27:32] WARNING: src/objective/regression_obj.cu:152: reg:linear is now deprecated in favor of reg:squarederror.\n",
      "    fold  6:  [0.12202553]\n",
      "[15:27:33] WARNING: src/objective/regression_obj.cu:152: reg:linear is now deprecated in favor of reg:squarederror.\n",
      "    fold  7:  [0.11272508]\n",
      "[15:27:33] WARNING: src/objective/regression_obj.cu:152: reg:linear is now deprecated in favor of reg:squarederror.\n",
      "    fold  8:  [0.13291567]\n",
      "[15:27:34] WARNING: src/objective/regression_obj.cu:152: reg:linear is now deprecated in favor of reg:squarederror.\n",
      "    fold  9:  [0.14596313]\n",
      "    ----\n",
      "    MEAN:     [0.12559812] + [0.01549654]\n",
      "    FULL:     [0.12652702]\n",
      "\n",
      "model  2:     [LGBMRegressor]\n",
      "    fold  0:  [0.12703544]\n",
      "    fold  1:  [0.13032868]\n",
      "    fold  2:  [0.16624679]\n",
      "    fold  3:  [0.12381488]\n",
      "    fold  4:  [0.11442110]\n",
      "    fold  5:  [0.11182625]\n",
      "    fold  6:  [0.12329651]\n",
      "    fold  7:  [0.12235457]\n",
      "    fold  8:  [0.15149203]\n",
      "    fold  9:  [0.14482569]\n",
      "    ----\n",
      "    MEAN:     [0.13156419] + [0.01641524]\n",
      "    FULL:     [0.13255599]\n",
      "\n",
      "model  3:     [RandomForestRegressor]\n",
      "    fold  0:  [0.15444857]\n",
      "    fold  1:  [0.13882883]\n",
      "    fold  2:  [0.16266656]\n",
      "    fold  3:  [0.13583993]\n",
      "    fold  4:  [0.13398605]\n",
      "    fold  5:  [0.15748321]\n",
      "    fold  6:  [0.13578264]\n",
      "    fold  7:  [0.13587328]\n",
      "    fold  8:  [0.17251264]\n",
      "    fold  9:  [0.17659912]\n",
      "    ----\n",
      "    MEAN:     [0.15040208] + [0.01559613]\n",
      "    FULL:     [0.15116546]\n",
      "\n"
     ]
    }
   ],
   "source": [
    "S_train, S_test = stacking(models,\n",
    "                           X_train, y_train, X_test,\n",
    "                           regression=True,\n",
    "                           mode='oof_pred_bag',\n",
    "                           metric=rmse,\n",
    "                           n_folds=10,\n",
    "                           random_state=25,\n",
    "                           verbose=2\n",
    "                          )"
   ]
  },
  {
   "cell_type": "code",
   "execution_count": 86,
   "metadata": {
    "ExecuteTime": {
     "end_time": "2019-12-15T06:29:04.004562Z",
     "start_time": "2019-12-15T06:29:03.732355Z"
    }
   },
   "outputs": [
    {
     "name": "stdout",
     "output_type": "stream",
     "text": [
      "[15:29:03] WARNING: src/objective/regression_obj.cu:152: reg:linear is now deprecated in favor of reg:squarederror.\n"
     ]
    },
    {
     "data": {
      "text/plain": [
       "XGBRegressor(base_score=0.5, booster='gbtree', colsample_bylevel=1,\n",
       "             colsample_bynode=1, colsample_bytree=1, gamma=0,\n",
       "             importance_type='gain', learning_rate=0.1, max_delta_step=0,\n",
       "             max_depth=3, min_child_weight=1, missing=None, n_estimators=500,\n",
       "             n_jobs=-1, nthread=None, objective='reg:linear', random_state=0,\n",
       "             reg_alpha=0, reg_lambda=1, scale_pos_weight=1, seed=None,\n",
       "             silent=None, subsample=1, verbosity=1)"
      ]
     },
     "execution_count": 86,
     "metadata": {},
     "output_type": "execute_result"
    }
   ],
   "source": [
    "xgb_lev2 = XGBRegressor(learning_rate=0.1, \n",
    "                        n_estimators=500,\n",
    "                        max_depth=3,\n",
    "                        n_jobs=-1,\n",
    "#                         random_state=17\n",
    "                       )\n",
    "\n",
    "# Fit the 2nd level model on the output of level 1\n",
    "xgb_lev2.fit(S_train, y_train)"
   ]
  },
  {
   "cell_type": "code",
   "execution_count": 87,
   "metadata": {
    "ExecuteTime": {
     "end_time": "2019-12-15T06:29:06.444418Z",
     "start_time": "2019-12-15T06:29:06.425404Z"
    }
   },
   "outputs": [
    {
     "name": "stdout",
     "output_type": "stream",
     "text": [
      "RMSE of Stacked Model: 0.1275967212273199\n"
     ]
    }
   ],
   "source": [
    "stacked_pred = xgb_lev2.predict(S_test)\n",
    "print(\"RMSE of Stacked Model: {}\".format(rmse(y_test,stacked_pred)))"
   ]
  },
  {
   "cell_type": "code",
   "execution_count": null,
   "metadata": {},
   "outputs": [],
   "source": []
  }
 ],
 "metadata": {
  "kernelspec": {
   "display_name": "py37",
   "language": "python",
   "name": "py37"
  },
  "language_info": {
   "codemirror_mode": {
    "name": "ipython",
    "version": 3
   },
   "file_extension": ".py",
   "mimetype": "text/x-python",
   "name": "python",
   "nbconvert_exporter": "python",
   "pygments_lexer": "ipython3",
   "version": "3.7.3"
  },
  "toc": {
   "base_numbering": 1,
   "nav_menu": {},
   "number_sections": true,
   "sideBar": true,
   "skip_h1_title": false,
   "title_cell": "Table of Contents",
   "title_sidebar": "Contents",
   "toc_cell": false,
   "toc_position": {},
   "toc_section_display": true,
   "toc_window_display": false
  }
 },
 "nbformat": 4,
 "nbformat_minor": 2
}
