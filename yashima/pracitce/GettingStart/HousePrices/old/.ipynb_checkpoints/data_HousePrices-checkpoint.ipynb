{
 "cells": [
  {
   "cell_type": "code",
   "execution_count": 0,
   "metadata": {
    "colab": {
     "base_uri": "https://localhost:8080/",
     "height": 54
    },
    "colab_type": "code",
    "executionInfo": {
     "elapsed": 12723,
     "status": "ok",
     "timestamp": 1557311201589,
     "user": {
      "displayName": "トムー",
      "photoUrl": "",
      "userId": "01084465765645554068"
     },
     "user_tz": -540
    },
    "id": "Jgb6cPZy3XwX",
    "outputId": "f76a606e-4a1e-446e-9bfc-af6892fc6c7c"
   },
   "outputs": [
    {
     "name": "stdout",
     "output_type": "stream",
     "text": [
      "Archive:  house-prices-advanced-regression-techniques.zip\n",
      "replace sample_submission.csv? [y]es, [n]o, [A]ll, [N]one, [r]ename: N\n"
     ]
    }
   ],
   "source": [
    "!unzip house-prices-advanced-regression-techniques.zip"
   ]
  },
  {
   "cell_type": "code",
   "execution_count": 0,
   "metadata": {
    "colab": {},
    "colab_type": "code",
    "id": "sdBmE6jdSqHe"
   },
   "outputs": [],
   "source": [
    "import numpy as np\n",
    "from sklearn.preprocessing import StandardScaler, LabelEncoder, RobustScaler"
   ]
  },
  {
   "cell_type": "code",
   "execution_count": 0,
   "metadata": {
    "colab": {},
    "colab_type": "code",
    "id": "I6oTKW8U2hRe"
   },
   "outputs": [],
   "source": [
    "import pandas as pd\n",
    "\n",
    "'''\n",
    "データのロード\n",
    "'''\n",
    "train = pd.read_csv(\"train.csv\")\n",
    "test = pd.read_csv(\"test.csv\")"
   ]
  },
  {
   "cell_type": "code",
   "execution_count": 0,
   "metadata": {
    "colab": {
     "base_uri": "https://localhost:8080/",
     "height": 54
    },
    "colab_type": "code",
    "executionInfo": {
     "elapsed": 12651,
     "status": "ok",
     "timestamp": 1557311201639,
     "user": {
      "displayName": "トムー",
      "photoUrl": "",
      "userId": "01084465765645554068"
     },
     "user_tz": -540
    },
    "id": "BMhJIrr-6kk8",
    "outputId": "176f9de2-d5fd-47a8-fbe0-4d6088ff94e0"
   },
   "outputs": [
    {
     "name": "stdout",
     "output_type": "stream",
     "text": [
      "(1460, 81)\n",
      "(1459, 80)\n"
     ]
    }
   ],
   "source": [
    "print(train.shape)\n",
    "print(test.shape)"
   ]
  },
  {
   "cell_type": "code",
   "execution_count": 22,
   "metadata": {
    "colab": {
     "base_uri": "https://localhost:8080/",
     "height": 166
    },
    "colab_type": "code",
    "executionInfo": {
     "elapsed": 538,
     "status": "ok",
     "timestamp": 1557560060139,
     "user": {
      "displayName": "トムー",
      "photoUrl": "",
      "userId": "01084465765645554068"
     },
     "user_tz": -540
    },
    "id": "2PcmYGZW436U",
    "outputId": "7bf026fb-9240-437b-e186-116a33e69d32"
   },
   "outputs": [
    {
     "name": "stderr",
     "output_type": "stream",
     "text": [
      "/usr/local/lib/python3.6/dist-packages/pandas/core/frame.py:6692: FutureWarning: Sorting because non-concatenation axis is not aligned. A future version\n",
      "of pandas will change to not sort by default.\n",
      "\n",
      "To accept the future behavior, pass 'sort=False'.\n",
      "\n",
      "To retain the current behavior and silence the warning, pass 'sort=True'.\n",
      "\n",
      "  sort=sort)\n"
     ]
    }
   ],
   "source": [
    "# trainとtestのラベルを追加\n",
    "train['Type'] = 'train'\n",
    "test['Type'] = 'test'\n",
    "data = train.append(test)"
   ]
  },
  {
   "cell_type": "code",
   "execution_count": 0,
   "metadata": {
    "colab": {
     "base_uri": "https://localhost:8080/",
     "height": 36
    },
    "colab_type": "code",
    "executionInfo": {
     "elapsed": 12609,
     "status": "ok",
     "timestamp": 1557311201644,
     "user": {
      "displayName": "トムー",
      "photoUrl": "",
      "userId": "01084465765645554068"
     },
     "user_tz": -540
    },
    "id": "g39n53r2VEDW",
    "outputId": "d6c5b1fc-aab1-41ae-f283-035fe246de84"
   },
   "outputs": [
    {
     "data": {
      "text/plain": [
       "'\\nデータのクリーニング\\n'"
      ]
     },
     "execution_count": 64,
     "metadata": {
      "tags": []
     },
     "output_type": "execute_result"
    }
   ],
   "source": [
    "'''\n",
    "データのクリーニング\n",
    "'''"
   ]
  },
  {
   "cell_type": "code",
   "execution_count": 0,
   "metadata": {
    "colab": {},
    "colab_type": "code",
    "id": "eVHiT01q5zU6"
   },
   "outputs": [],
   "source": [
    "def missing_table(df):      # データの欠損を計算\n",
    "    null_val = df.isnull().sum()\n",
    "    percent = 100 * df.isnull().sum()/len(df)\n",
    "    missing_table = pd.concat([null_val, percent], axis=1)\n",
    "    missing_table_ren_columns = missing_table.rename(\n",
    "        columns = {0:\"欠損数\", 1:\"%\"}\n",
    "    )\n",
    "    return missing_table_ren_columns"
   ]
  },
  {
   "cell_type": "code",
   "execution_count": 0,
   "metadata": {
    "colab": {},
    "colab_type": "code",
    "id": "hGghVcU9iuTZ"
   },
   "outputs": [],
   "source": [
    "def learge_missing(rate):\n",
    "  index = []\n",
    "  name = []\n",
    "  null_val = data.isnull().sum()\n",
    "  percent = 100 * data.isnull().sum()/len(data)\n",
    "  for i in range(len(percent)):\n",
    "    if percent[i] > rate:\n",
    "      index.append(i)\n",
    "  _ = null_val[index]\n",
    "  name.append(_.index)\n",
    "#   print(100 * data[list(np.array(name).flatten())].isnull().sum()/len(data[list(np.array(name).flatten())]))\n",
    "  return list(np.array(name).flatten())"
   ]
  },
  {
   "cell_type": "code",
   "execution_count": 0,
   "metadata": {
    "colab": {
     "base_uri": "https://localhost:8080/",
     "height": 36
    },
    "colab_type": "code",
    "executionInfo": {
     "elapsed": 12575,
     "status": "ok",
     "timestamp": 1557311201662,
     "user": {
      "displayName": "トムー",
      "photoUrl": "",
      "userId": "01084465765645554068"
     },
     "user_tz": -540
    },
    "id": "GvLI_c9U57P_",
    "outputId": "3cb5a362-2a4f-4d39-8f29-c4e94dd5d869"
   },
   "outputs": [
    {
     "data": {
      "text/plain": [
       "['Alley', 'Fence', 'FireplaceQu', 'MiscFeature', 'PoolQC', 'SalePrice']"
      ]
     },
     "execution_count": 67,
     "metadata": {
      "tags": []
     },
     "output_type": "execute_result"
    }
   ],
   "source": [
    "learge_missing(30)"
   ]
  },
  {
   "cell_type": "code",
   "execution_count": 0,
   "metadata": {
    "colab": {},
    "colab_type": "code",
    "id": "AzoLKEQ8FUUc"
   },
   "outputs": [],
   "source": [
    "# Nanをラベルにしているコラムの調整\n",
    "titles = learge_missing(30)[:-1]\n",
    "for title in titles:\n",
    "  data[title].fillna(0, inplace = True)"
   ]
  },
  {
   "cell_type": "code",
   "execution_count": 0,
   "metadata": {
    "colab": {},
    "colab_type": "code",
    "id": "KwUooG4KjSHI"
   },
   "outputs": [],
   "source": [
    "# 欠損値の補完\n",
    "miss_title = [s for s in learge_missing(0) if 'SalePrice' not in s]\n",
    "for title in miss_title:\n",
    "  data[title].fillna(data[title].mode()[0], inplace = True)"
   ]
  },
  {
   "cell_type": "code",
   "execution_count": 0,
   "metadata": {
    "colab": {},
    "colab_type": "code",
    "id": "UyTBPF6f8U9M"
   },
   "outputs": [],
   "source": [
    "objects = data.select_dtypes(include=object)\n",
    "# objects.nunique()"
   ]
  },
  {
   "cell_type": "code",
   "execution_count": 0,
   "metadata": {
    "colab": {},
    "colab_type": "code",
    "id": "DgnjhR3votwq"
   },
   "outputs": [],
   "source": [
    "# コラムのエンコード\n",
    "\n",
    "target_col = [\"SalePrice\"]\n",
    "id_dataset = [\"Type\"]\n",
    "cat_cols   = data.nunique()[data.nunique() < 26].keys().tolist()   # unique数が26未満のラベルをcat_colsにまとめる\n",
    "cat_cols   = [x for x in cat_cols ]\n",
    "# numerical columns(数値)\n",
    "num_cols   = [x for x in data.columns if x not in cat_cols + target_col + id_dataset]  # cat_cols, target_col, id_datasetのどれにも属さないラベルをまとめる　\n",
    "# Binary columns with 2 values(バイナリ)\n",
    "bin_cols   = data.nunique()[data.nunique() == 2].keys().tolist()\n",
    "# Columns more than 2 values(3種以上のクラス)\n",
    "multi_cols = [i for i in cat_cols if i not in bin_cols]"
   ]
  },
  {
   "cell_type": "code",
   "execution_count": 0,
   "metadata": {
    "colab": {},
    "colab_type": "code",
    "id": "-0tuT_YSqGm3"
   },
   "outputs": [],
   "source": [
    "# bin_colsのエンコード\n",
    "le = LabelEncoder()\n",
    "for i in bin_cols :\n",
    "    data[i] = le.fit_transform(data[i])"
   ]
  },
  {
   "cell_type": "code",
   "execution_count": 0,
   "metadata": {
    "colab": {},
    "colab_type": "code",
    "id": "9xN08f9nwqnw"
   },
   "outputs": [],
   "source": [
    "# multi_colsのダミーデータを生成\n",
    "data = pd.get_dummies(data = data,columns = multi_cols )"
   ]
  },
  {
   "cell_type": "code",
   "execution_count": 0,
   "metadata": {
    "colab": {},
    "colab_type": "code",
    "id": "76LzCMz_wvWG"
   },
   "outputs": [],
   "source": [
    "# # num_colsを標準化\n",
    "# sc = RobustScaler()\n",
    "# scaled = sc.fit_transform(data[num_cols])\n",
    "# scaled = pd.DataFrame(scaled,columns = num_cols)"
   ]
  },
  {
   "cell_type": "code",
   "execution_count": 0,
   "metadata": {
    "colab": {},
    "colab_type": "code",
    "id": "9g3UW5EWx2WY"
   },
   "outputs": [],
   "source": [
    "# # 不要なラベルの削除とscaledのmerge\n",
    "# df_data_og = data.copy()\n",
    "# data = data.drop(columns = num_cols,axis = 1)\n",
    "# data = data.merge(scaled,left_index = True,right_index = True,how = \"left\")"
   ]
  },
  {
   "cell_type": "code",
   "execution_count": 0,
   "metadata": {
    "colab": {},
    "colab_type": "code",
    "id": "2w7RgH1Ny3b3"
   },
   "outputs": [],
   "source": [
    "# dataの分離\n",
    "train = data[data['Type'] == 1].drop(columns = ['Type'])\n",
    "test = data[data['Type'] == 0].drop(columns = ['Type'])"
   ]
  },
  {
   "cell_type": "code",
   "execution_count": 30,
   "metadata": {
    "colab": {
     "base_uri": "https://localhost:8080/",
     "height": 129
    },
    "colab_type": "code",
    "executionInfo": {
     "elapsed": 380,
     "status": "ok",
     "timestamp": 1557560101841,
     "user": {
      "displayName": "トムー",
      "photoUrl": "",
      "userId": "01084465765645554068"
     },
     "user_tz": -540
    },
    "id": "Ea4X4HjDzQn_",
    "outputId": "9777cee2-9ce1-4eee-931e-10fc269a1350"
   },
   "outputs": [
    {
     "name": "stderr",
     "output_type": "stream",
     "text": [
      "/usr/local/lib/python3.6/dist-packages/ipykernel_launcher.py:1: FutureWarning: Method .as_matrix will be removed in a future version. Use .values instead.\n",
      "  \"\"\"Entry point for launching an IPython kernel.\n",
      "/usr/local/lib/python3.6/dist-packages/ipykernel_launcher.py:2: FutureWarning: Method .as_matrix will be removed in a future version. Use .values instead.\n",
      "  \n",
      "/usr/local/lib/python3.6/dist-packages/ipykernel_launcher.py:3: FutureWarning: Method .as_matrix will be removed in a future version. Use .values instead.\n",
      "  This is separate from the ipykernel package so we can avoid doing imports until\n"
     ]
    }
   ],
   "source": [
    "# trainを入力と正解に分離しarrayに変換\n",
    "X_train = train.iloc[:, 1:].as_matrix()\n",
    "Y_train = train.iloc[:,0].as_matrix()\n",
    "X_test = test.iloc[:, 1:].as_matrix()"
   ]
  },
  {
   "cell_type": "code",
   "execution_count": 0,
   "metadata": {
    "colab": {},
    "colab_type": "code",
    "id": "k0zcFt3qzULh"
   },
   "outputs": [],
   "source": [
    "'''\n",
    "データの保存\n",
    "'''\n",
    "import pickle\n",
    "\n",
    "pickle_file = \"./HousePrice_data_ns.pickle\"\n",
    "with open(pickle_file, 'wb') as f:\n",
    "    pickle.dump(X_train, f)\n",
    "    pickle.dump(Y_train, f)\n",
    "    pickle.dump(X_test, f)"
   ]
  },
  {
   "cell_type": "code",
   "execution_count": 0,
   "metadata": {
    "colab": {},
    "colab_type": "code",
    "id": "H0hdRAb4zh4_"
   },
   "outputs": [],
   "source": [
    "with open(pickle_file, 'rb') as f:\n",
    "    X_train = pickle.load(f)\n",
    "    Y_train = pickle.load(f)\n",
    "    X_test = pickle.load(f)"
   ]
  },
  {
   "cell_type": "code",
   "execution_count": 0,
   "metadata": {
    "colab": {},
    "colab_type": "code",
    "id": "LnVLyNxlrI5U"
   },
   "outputs": [],
   "source": []
  }
 ],
 "metadata": {
  "accelerator": "GPU",
  "colab": {
   "collapsed_sections": [],
   "name": "data_HousePrices.ipynb",
   "provenance": [],
   "version": "0.3.2"
  },
  "kernelspec": {
   "display_name": "Python 3",
   "language": "python",
   "name": "python3"
  },
  "language_info": {
   "codemirror_mode": {
    "name": "ipython",
    "version": 3
   },
   "file_extension": ".py",
   "mimetype": "text/x-python",
   "name": "python",
   "nbconvert_exporter": "python",
   "pygments_lexer": "ipython3",
   "version": "3.7.3"
  },
  "toc": {
   "base_numbering": 1,
   "nav_menu": {},
   "number_sections": true,
   "sideBar": true,
   "skip_h1_title": false,
   "title_cell": "Table of Contents",
   "title_sidebar": "Contents",
   "toc_cell": false,
   "toc_position": {},
   "toc_section_display": true,
   "toc_window_display": false
  }
 },
 "nbformat": 4,
 "nbformat_minor": 1
}
