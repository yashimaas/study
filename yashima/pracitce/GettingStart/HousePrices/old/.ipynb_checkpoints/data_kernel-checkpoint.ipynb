{
 "cells": [
  {
   "cell_type": "code",
   "execution_count": 1,
   "metadata": {
    "colab": {
     "base_uri": "https://localhost:8080/",
     "height": 104
    },
    "colab_type": "code",
    "executionInfo": {
     "elapsed": 4083,
     "status": "ok",
     "timestamp": 1561012463304,
     "user": {
      "displayName": "トムー",
      "photoUrl": "",
      "userId": "01084465765645554068"
     },
     "user_tz": -540
    },
    "id": "kFQapkcaN1ki",
    "outputId": "a903f455-4902-4756-e98c-0b87a4b4d258"
   },
   "outputs": [
    {
     "name": "stdout",
     "output_type": "stream",
     "text": [
      "Archive:  house-prices-advanced-regression-techniques.zip\n",
      "  inflating: sample_submission.csv   \n",
      "  inflating: data_description.txt    \n",
      "  inflating: test.csv                \n",
      "  inflating: train.csv               \n"
     ]
    }
   ],
   "source": [
    "!unzip house-prices-advanced-regression-techniques.zip"
   ]
  },
  {
   "cell_type": "code",
   "execution_count": 0,
   "metadata": {
    "colab": {},
    "colab_type": "code",
    "id": "LNJ_O99XRkcy"
   },
   "outputs": [],
   "source": [
    "import pandas as pd\n",
    "import numpy as np\n",
    "from sklearn.preprocessing import LabelEncoder\n",
    "from sklearn.model_selection import cross_val_score"
   ]
  },
  {
   "cell_type": "code",
   "execution_count": 0,
   "metadata": {
    "colab": {},
    "colab_type": "code",
    "id": "U19UPZ0WNh2x"
   },
   "outputs": [],
   "source": [
    "'''\n",
    "データのロード\n",
    "'''\n",
    "train_data = pd.read_csv('train.csv')\n",
    "test_data = pd.read_csv('test.csv')\n",
    "pd.set_option('display.max_columns', 90)"
   ]
  },
  {
   "cell_type": "code",
   "execution_count": 8,
   "metadata": {
    "colab": {
     "base_uri": "https://localhost:8080/",
     "height": 226
    },
    "colab_type": "code",
    "executionInfo": {
     "elapsed": 952,
     "status": "ok",
     "timestamp": 1561013099987,
     "user": {
      "displayName": "トムー",
      "photoUrl": "",
      "userId": "01084465765645554068"
     },
     "user_tz": -540
    },
    "id": "9ZzaOyNkmBqM",
    "outputId": "1396fd3f-aae7-49e0-8759-1653dd646d29"
   },
   "outputs": [
    {
     "data": {
      "text/html": [
       "<div>\n",
       "<style scoped>\n",
       "    .dataframe tbody tr th:only-of-type {\n",
       "        vertical-align: middle;\n",
       "    }\n",
       "\n",
       "    .dataframe tbody tr th {\n",
       "        vertical-align: top;\n",
       "    }\n",
       "\n",
       "    .dataframe thead th {\n",
       "        text-align: right;\n",
       "    }\n",
       "</style>\n",
       "<table border=\"1\" class=\"dataframe\">\n",
       "  <thead>\n",
       "    <tr style=\"text-align: right;\">\n",
       "      <th></th>\n",
       "      <th>SalePrice</th>\n",
       "      <th>SaleCondition</th>\n",
       "      <th>SaleType</th>\n",
       "      <th>YrSold</th>\n",
       "      <th>MoSold</th>\n",
       "      <th>MiscVal</th>\n",
       "      <th>MiscFeature</th>\n",
       "      <th>Fence</th>\n",
       "      <th>PoolQC</th>\n",
       "      <th>PoolArea</th>\n",
       "      <th>ScreenPorch</th>\n",
       "      <th>3SsnPorch</th>\n",
       "      <th>EnclosedPorch</th>\n",
       "      <th>OpenPorchSF</th>\n",
       "      <th>WoodDeckSF</th>\n",
       "      <th>PavedDrive</th>\n",
       "      <th>GarageCond</th>\n",
       "      <th>GarageQual</th>\n",
       "      <th>GarageArea</th>\n",
       "      <th>GarageCars</th>\n",
       "      <th>GarageFinish</th>\n",
       "      <th>GarageYrBlt</th>\n",
       "      <th>GarageType</th>\n",
       "      <th>FireplaceQu</th>\n",
       "      <th>Fireplaces</th>\n",
       "      <th>Functional</th>\n",
       "      <th>TotRmsAbvGrd</th>\n",
       "      <th>KitchenQual</th>\n",
       "      <th>KitchenAbvGr</th>\n",
       "      <th>BedroomAbvGr</th>\n",
       "      <th>HalfBath</th>\n",
       "      <th>FullBath</th>\n",
       "      <th>BsmtHalfBath</th>\n",
       "      <th>BsmtFullBath</th>\n",
       "      <th>GrLivArea</th>\n",
       "      <th>LowQualFinSF</th>\n",
       "      <th>2ndFlrSF</th>\n",
       "      <th>1stFlrSF</th>\n",
       "      <th>Electrical</th>\n",
       "      <th>CentralAir</th>\n",
       "      <th>HeatingQC</th>\n",
       "      <th>Heating</th>\n",
       "      <th>TotalBsmtSF</th>\n",
       "      <th>BsmtUnfSF</th>\n",
       "      <th>BsmtFinSF2</th>\n",
       "      <th>BsmtFinType2</th>\n",
       "      <th>BsmtFinSF1</th>\n",
       "      <th>BsmtFinType1</th>\n",
       "      <th>BsmtExposure</th>\n",
       "      <th>BsmtCond</th>\n",
       "      <th>BsmtQual</th>\n",
       "      <th>Foundation</th>\n",
       "      <th>ExterCond</th>\n",
       "      <th>ExterQual</th>\n",
       "      <th>MasVnrArea</th>\n",
       "      <th>MasVnrType</th>\n",
       "      <th>Exterior2nd</th>\n",
       "      <th>Exterior1st</th>\n",
       "      <th>RoofMatl</th>\n",
       "      <th>RoofStyle</th>\n",
       "      <th>YearRemodAdd</th>\n",
       "      <th>YearBuilt</th>\n",
       "      <th>OverallCond</th>\n",
       "      <th>OverallQual</th>\n",
       "      <th>HouseStyle</th>\n",
       "      <th>BldgType</th>\n",
       "      <th>Condition2</th>\n",
       "      <th>Condition1</th>\n",
       "      <th>Neighborhood</th>\n",
       "      <th>LandSlope</th>\n",
       "      <th>LotConfig</th>\n",
       "      <th>Utilities</th>\n",
       "      <th>LandContour</th>\n",
       "      <th>LotShape</th>\n",
       "      <th>Alley</th>\n",
       "      <th>Street</th>\n",
       "      <th>LotArea</th>\n",
       "      <th>LotFrontage</th>\n",
       "      <th>MSZoning</th>\n",
       "      <th>MSSubClass</th>\n",
       "      <th>Id</th>\n",
       "    </tr>\n",
       "  </thead>\n",
       "  <tbody>\n",
       "    <tr>\n",
       "      <th>0</th>\n",
       "      <td>208500</td>\n",
       "      <td>Normal</td>\n",
       "      <td>WD</td>\n",
       "      <td>2008</td>\n",
       "      <td>2</td>\n",
       "      <td>0</td>\n",
       "      <td>NaN</td>\n",
       "      <td>NaN</td>\n",
       "      <td>NaN</td>\n",
       "      <td>0</td>\n",
       "      <td>0</td>\n",
       "      <td>0</td>\n",
       "      <td>0</td>\n",
       "      <td>61</td>\n",
       "      <td>0</td>\n",
       "      <td>Y</td>\n",
       "      <td>TA</td>\n",
       "      <td>TA</td>\n",
       "      <td>548</td>\n",
       "      <td>2</td>\n",
       "      <td>RFn</td>\n",
       "      <td>2003.0</td>\n",
       "      <td>Attchd</td>\n",
       "      <td>NaN</td>\n",
       "      <td>0</td>\n",
       "      <td>Typ</td>\n",
       "      <td>8</td>\n",
       "      <td>Gd</td>\n",
       "      <td>1</td>\n",
       "      <td>3</td>\n",
       "      <td>1</td>\n",
       "      <td>2</td>\n",
       "      <td>0</td>\n",
       "      <td>1</td>\n",
       "      <td>1710</td>\n",
       "      <td>0</td>\n",
       "      <td>854</td>\n",
       "      <td>856</td>\n",
       "      <td>SBrkr</td>\n",
       "      <td>Y</td>\n",
       "      <td>Ex</td>\n",
       "      <td>GasA</td>\n",
       "      <td>856</td>\n",
       "      <td>150</td>\n",
       "      <td>0</td>\n",
       "      <td>Unf</td>\n",
       "      <td>706</td>\n",
       "      <td>GLQ</td>\n",
       "      <td>No</td>\n",
       "      <td>TA</td>\n",
       "      <td>Gd</td>\n",
       "      <td>PConc</td>\n",
       "      <td>TA</td>\n",
       "      <td>Gd</td>\n",
       "      <td>196.0</td>\n",
       "      <td>BrkFace</td>\n",
       "      <td>VinylSd</td>\n",
       "      <td>VinylSd</td>\n",
       "      <td>CompShg</td>\n",
       "      <td>Gable</td>\n",
       "      <td>2003</td>\n",
       "      <td>2003</td>\n",
       "      <td>5</td>\n",
       "      <td>7</td>\n",
       "      <td>2Story</td>\n",
       "      <td>1Fam</td>\n",
       "      <td>Norm</td>\n",
       "      <td>Norm</td>\n",
       "      <td>CollgCr</td>\n",
       "      <td>Gtl</td>\n",
       "      <td>Inside</td>\n",
       "      <td>AllPub</td>\n",
       "      <td>Lvl</td>\n",
       "      <td>Reg</td>\n",
       "      <td>NaN</td>\n",
       "      <td>Pave</td>\n",
       "      <td>8450</td>\n",
       "      <td>65.0</td>\n",
       "      <td>RL</td>\n",
       "      <td>60</td>\n",
       "      <td>1</td>\n",
       "    </tr>\n",
       "    <tr>\n",
       "      <th>1</th>\n",
       "      <td>181500</td>\n",
       "      <td>Normal</td>\n",
       "      <td>WD</td>\n",
       "      <td>2007</td>\n",
       "      <td>5</td>\n",
       "      <td>0</td>\n",
       "      <td>NaN</td>\n",
       "      <td>NaN</td>\n",
       "      <td>NaN</td>\n",
       "      <td>0</td>\n",
       "      <td>0</td>\n",
       "      <td>0</td>\n",
       "      <td>0</td>\n",
       "      <td>0</td>\n",
       "      <td>298</td>\n",
       "      <td>Y</td>\n",
       "      <td>TA</td>\n",
       "      <td>TA</td>\n",
       "      <td>460</td>\n",
       "      <td>2</td>\n",
       "      <td>RFn</td>\n",
       "      <td>1976.0</td>\n",
       "      <td>Attchd</td>\n",
       "      <td>TA</td>\n",
       "      <td>1</td>\n",
       "      <td>Typ</td>\n",
       "      <td>6</td>\n",
       "      <td>TA</td>\n",
       "      <td>1</td>\n",
       "      <td>3</td>\n",
       "      <td>0</td>\n",
       "      <td>2</td>\n",
       "      <td>1</td>\n",
       "      <td>0</td>\n",
       "      <td>1262</td>\n",
       "      <td>0</td>\n",
       "      <td>0</td>\n",
       "      <td>1262</td>\n",
       "      <td>SBrkr</td>\n",
       "      <td>Y</td>\n",
       "      <td>Ex</td>\n",
       "      <td>GasA</td>\n",
       "      <td>1262</td>\n",
       "      <td>284</td>\n",
       "      <td>0</td>\n",
       "      <td>Unf</td>\n",
       "      <td>978</td>\n",
       "      <td>ALQ</td>\n",
       "      <td>Gd</td>\n",
       "      <td>TA</td>\n",
       "      <td>Gd</td>\n",
       "      <td>CBlock</td>\n",
       "      <td>TA</td>\n",
       "      <td>TA</td>\n",
       "      <td>0.0</td>\n",
       "      <td>None</td>\n",
       "      <td>MetalSd</td>\n",
       "      <td>MetalSd</td>\n",
       "      <td>CompShg</td>\n",
       "      <td>Gable</td>\n",
       "      <td>1976</td>\n",
       "      <td>1976</td>\n",
       "      <td>8</td>\n",
       "      <td>6</td>\n",
       "      <td>1Story</td>\n",
       "      <td>1Fam</td>\n",
       "      <td>Norm</td>\n",
       "      <td>Feedr</td>\n",
       "      <td>Veenker</td>\n",
       "      <td>Gtl</td>\n",
       "      <td>FR2</td>\n",
       "      <td>AllPub</td>\n",
       "      <td>Lvl</td>\n",
       "      <td>Reg</td>\n",
       "      <td>NaN</td>\n",
       "      <td>Pave</td>\n",
       "      <td>9600</td>\n",
       "      <td>80.0</td>\n",
       "      <td>RL</td>\n",
       "      <td>20</td>\n",
       "      <td>2</td>\n",
       "    </tr>\n",
       "    <tr>\n",
       "      <th>2</th>\n",
       "      <td>223500</td>\n",
       "      <td>Normal</td>\n",
       "      <td>WD</td>\n",
       "      <td>2008</td>\n",
       "      <td>9</td>\n",
       "      <td>0</td>\n",
       "      <td>NaN</td>\n",
       "      <td>NaN</td>\n",
       "      <td>NaN</td>\n",
       "      <td>0</td>\n",
       "      <td>0</td>\n",
       "      <td>0</td>\n",
       "      <td>0</td>\n",
       "      <td>42</td>\n",
       "      <td>0</td>\n",
       "      <td>Y</td>\n",
       "      <td>TA</td>\n",
       "      <td>TA</td>\n",
       "      <td>608</td>\n",
       "      <td>2</td>\n",
       "      <td>RFn</td>\n",
       "      <td>2001.0</td>\n",
       "      <td>Attchd</td>\n",
       "      <td>TA</td>\n",
       "      <td>1</td>\n",
       "      <td>Typ</td>\n",
       "      <td>6</td>\n",
       "      <td>Gd</td>\n",
       "      <td>1</td>\n",
       "      <td>3</td>\n",
       "      <td>1</td>\n",
       "      <td>2</td>\n",
       "      <td>0</td>\n",
       "      <td>1</td>\n",
       "      <td>1786</td>\n",
       "      <td>0</td>\n",
       "      <td>866</td>\n",
       "      <td>920</td>\n",
       "      <td>SBrkr</td>\n",
       "      <td>Y</td>\n",
       "      <td>Ex</td>\n",
       "      <td>GasA</td>\n",
       "      <td>920</td>\n",
       "      <td>434</td>\n",
       "      <td>0</td>\n",
       "      <td>Unf</td>\n",
       "      <td>486</td>\n",
       "      <td>GLQ</td>\n",
       "      <td>Mn</td>\n",
       "      <td>TA</td>\n",
       "      <td>Gd</td>\n",
       "      <td>PConc</td>\n",
       "      <td>TA</td>\n",
       "      <td>Gd</td>\n",
       "      <td>162.0</td>\n",
       "      <td>BrkFace</td>\n",
       "      <td>VinylSd</td>\n",
       "      <td>VinylSd</td>\n",
       "      <td>CompShg</td>\n",
       "      <td>Gable</td>\n",
       "      <td>2002</td>\n",
       "      <td>2001</td>\n",
       "      <td>5</td>\n",
       "      <td>7</td>\n",
       "      <td>2Story</td>\n",
       "      <td>1Fam</td>\n",
       "      <td>Norm</td>\n",
       "      <td>Norm</td>\n",
       "      <td>CollgCr</td>\n",
       "      <td>Gtl</td>\n",
       "      <td>Inside</td>\n",
       "      <td>AllPub</td>\n",
       "      <td>Lvl</td>\n",
       "      <td>IR1</td>\n",
       "      <td>NaN</td>\n",
       "      <td>Pave</td>\n",
       "      <td>11250</td>\n",
       "      <td>68.0</td>\n",
       "      <td>RL</td>\n",
       "      <td>60</td>\n",
       "      <td>3</td>\n",
       "    </tr>\n",
       "    <tr>\n",
       "      <th>3</th>\n",
       "      <td>140000</td>\n",
       "      <td>Abnorml</td>\n",
       "      <td>WD</td>\n",
       "      <td>2006</td>\n",
       "      <td>2</td>\n",
       "      <td>0</td>\n",
       "      <td>NaN</td>\n",
       "      <td>NaN</td>\n",
       "      <td>NaN</td>\n",
       "      <td>0</td>\n",
       "      <td>0</td>\n",
       "      <td>0</td>\n",
       "      <td>272</td>\n",
       "      <td>35</td>\n",
       "      <td>0</td>\n",
       "      <td>Y</td>\n",
       "      <td>TA</td>\n",
       "      <td>TA</td>\n",
       "      <td>642</td>\n",
       "      <td>3</td>\n",
       "      <td>Unf</td>\n",
       "      <td>1998.0</td>\n",
       "      <td>Detchd</td>\n",
       "      <td>Gd</td>\n",
       "      <td>1</td>\n",
       "      <td>Typ</td>\n",
       "      <td>7</td>\n",
       "      <td>Gd</td>\n",
       "      <td>1</td>\n",
       "      <td>3</td>\n",
       "      <td>0</td>\n",
       "      <td>1</td>\n",
       "      <td>0</td>\n",
       "      <td>1</td>\n",
       "      <td>1717</td>\n",
       "      <td>0</td>\n",
       "      <td>756</td>\n",
       "      <td>961</td>\n",
       "      <td>SBrkr</td>\n",
       "      <td>Y</td>\n",
       "      <td>Gd</td>\n",
       "      <td>GasA</td>\n",
       "      <td>756</td>\n",
       "      <td>540</td>\n",
       "      <td>0</td>\n",
       "      <td>Unf</td>\n",
       "      <td>216</td>\n",
       "      <td>ALQ</td>\n",
       "      <td>No</td>\n",
       "      <td>Gd</td>\n",
       "      <td>TA</td>\n",
       "      <td>BrkTil</td>\n",
       "      <td>TA</td>\n",
       "      <td>TA</td>\n",
       "      <td>0.0</td>\n",
       "      <td>None</td>\n",
       "      <td>Wd Shng</td>\n",
       "      <td>Wd Sdng</td>\n",
       "      <td>CompShg</td>\n",
       "      <td>Gable</td>\n",
       "      <td>1970</td>\n",
       "      <td>1915</td>\n",
       "      <td>5</td>\n",
       "      <td>7</td>\n",
       "      <td>2Story</td>\n",
       "      <td>1Fam</td>\n",
       "      <td>Norm</td>\n",
       "      <td>Norm</td>\n",
       "      <td>Crawfor</td>\n",
       "      <td>Gtl</td>\n",
       "      <td>Corner</td>\n",
       "      <td>AllPub</td>\n",
       "      <td>Lvl</td>\n",
       "      <td>IR1</td>\n",
       "      <td>NaN</td>\n",
       "      <td>Pave</td>\n",
       "      <td>9550</td>\n",
       "      <td>60.0</td>\n",
       "      <td>RL</td>\n",
       "      <td>70</td>\n",
       "      <td>4</td>\n",
       "    </tr>\n",
       "    <tr>\n",
       "      <th>4</th>\n",
       "      <td>250000</td>\n",
       "      <td>Normal</td>\n",
       "      <td>WD</td>\n",
       "      <td>2008</td>\n",
       "      <td>12</td>\n",
       "      <td>0</td>\n",
       "      <td>NaN</td>\n",
       "      <td>NaN</td>\n",
       "      <td>NaN</td>\n",
       "      <td>0</td>\n",
       "      <td>0</td>\n",
       "      <td>0</td>\n",
       "      <td>0</td>\n",
       "      <td>84</td>\n",
       "      <td>192</td>\n",
       "      <td>Y</td>\n",
       "      <td>TA</td>\n",
       "      <td>TA</td>\n",
       "      <td>836</td>\n",
       "      <td>3</td>\n",
       "      <td>RFn</td>\n",
       "      <td>2000.0</td>\n",
       "      <td>Attchd</td>\n",
       "      <td>TA</td>\n",
       "      <td>1</td>\n",
       "      <td>Typ</td>\n",
       "      <td>9</td>\n",
       "      <td>Gd</td>\n",
       "      <td>1</td>\n",
       "      <td>4</td>\n",
       "      <td>1</td>\n",
       "      <td>2</td>\n",
       "      <td>0</td>\n",
       "      <td>1</td>\n",
       "      <td>2198</td>\n",
       "      <td>0</td>\n",
       "      <td>1053</td>\n",
       "      <td>1145</td>\n",
       "      <td>SBrkr</td>\n",
       "      <td>Y</td>\n",
       "      <td>Ex</td>\n",
       "      <td>GasA</td>\n",
       "      <td>1145</td>\n",
       "      <td>490</td>\n",
       "      <td>0</td>\n",
       "      <td>Unf</td>\n",
       "      <td>655</td>\n",
       "      <td>GLQ</td>\n",
       "      <td>Av</td>\n",
       "      <td>TA</td>\n",
       "      <td>Gd</td>\n",
       "      <td>PConc</td>\n",
       "      <td>TA</td>\n",
       "      <td>Gd</td>\n",
       "      <td>350.0</td>\n",
       "      <td>BrkFace</td>\n",
       "      <td>VinylSd</td>\n",
       "      <td>VinylSd</td>\n",
       "      <td>CompShg</td>\n",
       "      <td>Gable</td>\n",
       "      <td>2000</td>\n",
       "      <td>2000</td>\n",
       "      <td>5</td>\n",
       "      <td>8</td>\n",
       "      <td>2Story</td>\n",
       "      <td>1Fam</td>\n",
       "      <td>Norm</td>\n",
       "      <td>Norm</td>\n",
       "      <td>NoRidge</td>\n",
       "      <td>Gtl</td>\n",
       "      <td>FR2</td>\n",
       "      <td>AllPub</td>\n",
       "      <td>Lvl</td>\n",
       "      <td>IR1</td>\n",
       "      <td>NaN</td>\n",
       "      <td>Pave</td>\n",
       "      <td>14260</td>\n",
       "      <td>84.0</td>\n",
       "      <td>RL</td>\n",
       "      <td>60</td>\n",
       "      <td>5</td>\n",
       "    </tr>\n",
       "  </tbody>\n",
       "</table>\n",
       "</div>"
      ],
      "text/plain": [
       "   SalePrice SaleCondition SaleType  YrSold  MoSold  MiscVal MiscFeature  \\\n",
       "0     208500        Normal       WD    2008       2        0         NaN   \n",
       "1     181500        Normal       WD    2007       5        0         NaN   \n",
       "2     223500        Normal       WD    2008       9        0         NaN   \n",
       "3     140000       Abnorml       WD    2006       2        0         NaN   \n",
       "4     250000        Normal       WD    2008      12        0         NaN   \n",
       "\n",
       "  Fence PoolQC  PoolArea  ScreenPorch  3SsnPorch  EnclosedPorch  OpenPorchSF  \\\n",
       "0   NaN    NaN         0            0          0              0           61   \n",
       "1   NaN    NaN         0            0          0              0            0   \n",
       "2   NaN    NaN         0            0          0              0           42   \n",
       "3   NaN    NaN         0            0          0            272           35   \n",
       "4   NaN    NaN         0            0          0              0           84   \n",
       "\n",
       "   WoodDeckSF PavedDrive GarageCond GarageQual  GarageArea  GarageCars  \\\n",
       "0           0          Y         TA         TA         548           2   \n",
       "1         298          Y         TA         TA         460           2   \n",
       "2           0          Y         TA         TA         608           2   \n",
       "3           0          Y         TA         TA         642           3   \n",
       "4         192          Y         TA         TA         836           3   \n",
       "\n",
       "  GarageFinish  GarageYrBlt GarageType FireplaceQu  Fireplaces Functional  \\\n",
       "0          RFn       2003.0     Attchd         NaN           0        Typ   \n",
       "1          RFn       1976.0     Attchd          TA           1        Typ   \n",
       "2          RFn       2001.0     Attchd          TA           1        Typ   \n",
       "3          Unf       1998.0     Detchd          Gd           1        Typ   \n",
       "4          RFn       2000.0     Attchd          TA           1        Typ   \n",
       "\n",
       "   TotRmsAbvGrd KitchenQual  KitchenAbvGr  BedroomAbvGr  HalfBath  FullBath  \\\n",
       "0             8          Gd             1             3         1         2   \n",
       "1             6          TA             1             3         0         2   \n",
       "2             6          Gd             1             3         1         2   \n",
       "3             7          Gd             1             3         0         1   \n",
       "4             9          Gd             1             4         1         2   \n",
       "\n",
       "   BsmtHalfBath  BsmtFullBath  GrLivArea  LowQualFinSF  2ndFlrSF  1stFlrSF  \\\n",
       "0             0             1       1710             0       854       856   \n",
       "1             1             0       1262             0         0      1262   \n",
       "2             0             1       1786             0       866       920   \n",
       "3             0             1       1717             0       756       961   \n",
       "4             0             1       2198             0      1053      1145   \n",
       "\n",
       "  Electrical CentralAir HeatingQC Heating  TotalBsmtSF  BsmtUnfSF  BsmtFinSF2  \\\n",
       "0      SBrkr          Y        Ex    GasA          856        150           0   \n",
       "1      SBrkr          Y        Ex    GasA         1262        284           0   \n",
       "2      SBrkr          Y        Ex    GasA          920        434           0   \n",
       "3      SBrkr          Y        Gd    GasA          756        540           0   \n",
       "4      SBrkr          Y        Ex    GasA         1145        490           0   \n",
       "\n",
       "  BsmtFinType2  BsmtFinSF1 BsmtFinType1 BsmtExposure BsmtCond BsmtQual  \\\n",
       "0          Unf         706          GLQ           No       TA       Gd   \n",
       "1          Unf         978          ALQ           Gd       TA       Gd   \n",
       "2          Unf         486          GLQ           Mn       TA       Gd   \n",
       "3          Unf         216          ALQ           No       Gd       TA   \n",
       "4          Unf         655          GLQ           Av       TA       Gd   \n",
       "\n",
       "  Foundation ExterCond ExterQual  MasVnrArea MasVnrType Exterior2nd  \\\n",
       "0      PConc        TA        Gd       196.0    BrkFace     VinylSd   \n",
       "1     CBlock        TA        TA         0.0       None     MetalSd   \n",
       "2      PConc        TA        Gd       162.0    BrkFace     VinylSd   \n",
       "3     BrkTil        TA        TA         0.0       None     Wd Shng   \n",
       "4      PConc        TA        Gd       350.0    BrkFace     VinylSd   \n",
       "\n",
       "  Exterior1st RoofMatl RoofStyle  YearRemodAdd  YearBuilt  OverallCond  \\\n",
       "0     VinylSd  CompShg     Gable          2003       2003            5   \n",
       "1     MetalSd  CompShg     Gable          1976       1976            8   \n",
       "2     VinylSd  CompShg     Gable          2002       2001            5   \n",
       "3     Wd Sdng  CompShg     Gable          1970       1915            5   \n",
       "4     VinylSd  CompShg     Gable          2000       2000            5   \n",
       "\n",
       "   OverallQual HouseStyle BldgType Condition2 Condition1 Neighborhood  \\\n",
       "0            7     2Story     1Fam       Norm       Norm      CollgCr   \n",
       "1            6     1Story     1Fam       Norm      Feedr      Veenker   \n",
       "2            7     2Story     1Fam       Norm       Norm      CollgCr   \n",
       "3            7     2Story     1Fam       Norm       Norm      Crawfor   \n",
       "4            8     2Story     1Fam       Norm       Norm      NoRidge   \n",
       "\n",
       "  LandSlope LotConfig Utilities LandContour LotShape Alley Street  LotArea  \\\n",
       "0       Gtl    Inside    AllPub         Lvl      Reg   NaN   Pave     8450   \n",
       "1       Gtl       FR2    AllPub         Lvl      Reg   NaN   Pave     9600   \n",
       "2       Gtl    Inside    AllPub         Lvl      IR1   NaN   Pave    11250   \n",
       "3       Gtl    Corner    AllPub         Lvl      IR1   NaN   Pave     9550   \n",
       "4       Gtl       FR2    AllPub         Lvl      IR1   NaN   Pave    14260   \n",
       "\n",
       "   LotFrontage MSZoning  MSSubClass  Id  \n",
       "0         65.0       RL          60   1  \n",
       "1         80.0       RL          20   2  \n",
       "2         68.0       RL          60   3  \n",
       "3         60.0       RL          70   4  \n",
       "4         84.0       RL          60   5  "
      ]
     },
     "execution_count": 8,
     "metadata": {
      "tags": []
     },
     "output_type": "execute_result"
    }
   ],
   "source": [
    "train_data.loc[:,train_data.columns[::-1]].head()"
   ]
  },
  {
   "cell_type": "code",
   "execution_count": 0,
   "metadata": {
    "colab": {},
    "colab_type": "code",
    "id": "DVY5vew-Rhbe"
   },
   "outputs": [],
   "source": [
    "'''\n",
    "クリーニング\n",
    "'''\n",
    "# object型のコラムを抜き出し\n",
    "def get_cat_cols(df):\n",
    "  return [col for col in df.columns if df[col].dtype == 'object']"
   ]
  },
  {
   "cell_type": "code",
   "execution_count": 0,
   "metadata": {
    "colab": {},
    "colab_type": "code",
    "id": "J_yUCC41Sbkr"
   },
   "outputs": [],
   "source": [
    "y = np.log1p(train_data.SalePrice)"
   ]
  },
  {
   "cell_type": "code",
   "execution_count": 0,
   "metadata": {
    "colab": {},
    "colab_type": "code",
    "id": "Qhd2HjJASvLx"
   },
   "outputs": [],
   "source": [
    "cand_train_predictors = train_data.drop(['Id', 'SalePrice'], axis=1)\n",
    "cand_test_predictors = test_data.drop(['Id'], axis=1)"
   ]
  },
  {
   "cell_type": "code",
   "execution_count": 0,
   "metadata": {
    "colab": {},
    "colab_type": "code",
    "id": "K4g_xOTaTFOE"
   },
   "outputs": [],
   "source": [
    "cat_cols = get_cat_cols(cand_train_predictors)"
   ]
  },
  {
   "cell_type": "code",
   "execution_count": 0,
   "metadata": {
    "colab": {},
    "colab_type": "code",
    "id": "XYhQBYKZTXZV"
   },
   "outputs": [],
   "source": [
    "cand_train_predictors[cat_cols] = cand_train_predictors[cat_cols].fillna('NotAvailable')\n",
    "cand_test_predictors[cat_cols] = cand_test_predictors[cat_cols].fillna('NotAvailable')"
   ]
  },
  {
   "cell_type": "code",
   "execution_count": 0,
   "metadata": {
    "colab": {},
    "colab_type": "code",
    "id": "lltujqelTvgn"
   },
   "outputs": [],
   "source": [
    "# エンコード\n",
    "encoders = {}\n",
    "for col in cat_cols:\n",
    "    encoders[col] = LabelEncoder()\n",
    "    val = cand_train_predictors[col].tolist()\n",
    "    val.extend(cand_test_predictors[col].tolist())\n",
    "    encoders[col].fit(val)\n",
    "    cand_train_predictors[col] = encoders[col].transform(cand_train_predictors[col])+1\n",
    "    cand_test_predictors[col] = encoders[col].transform(cand_test_predictors[col])+1"
   ]
  },
  {
   "cell_type": "code",
   "execution_count": 0,
   "metadata": {
    "colab": {},
    "colab_type": "code",
    "id": "Ekv30lB3NK3f"
   },
   "outputs": [],
   "source": []
  },
  {
   "cell_type": "code",
   "execution_count": 0,
   "metadata": {
    "colab": {
     "base_uri": "https://localhost:8080/",
     "height": 36
    },
    "colab_type": "code",
    "executionInfo": {
     "elapsed": 398,
     "status": "ok",
     "timestamp": 1558524089007,
     "user": {
      "displayName": "トムー",
      "photoUrl": "",
      "userId": "01084465765645554068"
     },
     "user_tz": -540
    },
    "id": "wF8eyhAcT22a",
    "outputId": "5a31ef5b-2772-4279-dc83-385d47573695"
   },
   "outputs": [
    {
     "name": "stdout",
     "output_type": "stream",
     "text": [
      "Highly correlated features(will be droped): ['Exterior2nd', '1stFlrSF', 'TotRmsAbvGrd', 'GarageYrBlt', 'GarageArea', 'PoolQC']\n"
     ]
    }
   ],
   "source": [
    "'''\n",
    "特徴量の選択\n",
    "'''\n",
    "corr_matrix = cand_train_predictors.corr().abs()   # 相関係数の絶対値の計算\n",
    "upper = corr_matrix.where(np.triu(np.ones(corr_matrix.shape), k=1).astype(np.bool))   # corr_matrixの上三角成分を抽出\n",
    "cols_to_drop = [column for column in upper.columns if any(upper[column] > 0.8)]\n",
    "print('Highly correlated features(will be droped):',cols_to_drop)"
   ]
  },
  {
   "cell_type": "code",
   "execution_count": 0,
   "metadata": {
    "colab": {},
    "colab_type": "code",
    "id": "wQ7oSGHRkjv0"
   },
   "outputs": [],
   "source": [
    "cand_train_predictors_droped = cand_train_predictors.drop(cols_to_drop, axis=1)\n",
    "cand_test_predictors_droped = cand_test_predictors.drop(cols_to_drop, axis=1)"
   ]
  },
  {
   "cell_type": "code",
   "execution_count": 0,
   "metadata": {
    "colab": {},
    "colab_type": "code",
    "id": "U0TxxjbinkU5"
   },
   "outputs": [],
   "source": [
    "train_set, test_set = cand_train_predictors_droped.align(cand_test_predictors_droped,join='left', axis=1)\n",
    "# train_set = np.log1p(train_set)\n",
    "# test_set = np.log1p(test_set)"
   ]
  },
  {
   "cell_type": "code",
   "execution_count": 0,
   "metadata": {
    "colab": {},
    "colab_type": "code",
    "id": "OyeVHFQ0v1-z"
   },
   "outputs": [],
   "source": [
    "for col in train_set:\n",
    "  if train_set[col].skew() > 0.6:\n",
    "    train_set[col] = np.log1p(train_set[col])\n",
    "    test_set[col] = np.log1p(test_set[col])"
   ]
  },
  {
   "cell_type": "code",
   "execution_count": 0,
   "metadata": {
    "colab": {},
    "colab_type": "code",
    "id": "t-bGjnxTTde3"
   },
   "outputs": [],
   "source": [
    "for col in train_set:\n",
    "  if train_set[col].skew() > 0.6:\n",
    "    print(col)"
   ]
  },
  {
   "cell_type": "code",
   "execution_count": 0,
   "metadata": {
    "colab": {},
    "colab_type": "code",
    "id": "meUGIXTspcu-"
   },
   "outputs": [],
   "source": [
    "'''\n",
    "モデル\n",
    "'''\n",
    "from xgboost import XGBRegressor\n",
    "from sklearn.model_selection import KFold\n",
    "from sklearn.metrics import mean_squared_log_error\n",
    "from sklearn.metrics import mean_absolute_error"
   ]
  },
  {
   "cell_type": "code",
   "execution_count": 0,
   "metadata": {
    "colab": {
     "base_uri": "https://localhost:8080/",
     "height": 203
    },
    "colab_type": "code",
    "executionInfo": {
     "elapsed": 14655,
     "status": "ok",
     "timestamp": 1558524811973,
     "user": {
      "displayName": "トムー",
      "photoUrl": "",
      "userId": "01084465765645554068"
     },
     "user_tz": -540
    },
    "id": "ltwdfAg5pjKl",
    "outputId": "85e0bb6a-de64-48ec-e6de-8c28b7105bf5"
   },
   "outputs": [
    {
     "name": "stderr",
     "output_type": "stream",
     "text": [
      "/usr/local/lib/python3.6/dist-packages/xgboost/core.py:587: FutureWarning: Series.base is deprecated and will be removed in a future version\n",
      "  if getattr(data, 'base', None) is not None and \\\n",
      "/usr/local/lib/python3.6/dist-packages/xgboost/core.py:587: FutureWarning: Series.base is deprecated and will be removed in a future version\n",
      "  if getattr(data, 'base', None) is not None and \\\n",
      "/usr/local/lib/python3.6/dist-packages/xgboost/core.py:587: FutureWarning: Series.base is deprecated and will be removed in a future version\n",
      "  if getattr(data, 'base', None) is not None and \\\n",
      "/usr/local/lib/python3.6/dist-packages/xgboost/core.py:587: FutureWarning: Series.base is deprecated and will be removed in a future version\n",
      "  if getattr(data, 'base', None) is not None and \\\n",
      "/usr/local/lib/python3.6/dist-packages/xgboost/core.py:587: FutureWarning: Series.base is deprecated and will be removed in a future version\n",
      "  if getattr(data, 'base', None) is not None and \\\n"
     ]
    }
   ],
   "source": [
    "regressor = XGBRegressor(\n",
    "    n_estimators=1000, \n",
    "    random_state=1,\n",
    "    learning_rate=0.07300000000000001\n",
    ")\n",
    "my_model = regressor\n",
    "kf = KFold(5, shuffle=True, random_state=1).get_n_splits(train_set)\n",
    "rmse = np.sqrt(-cross_val_score(my_model, train_set,y, scoring=\"neg_mean_squared_error\", cv=kf, verbose=0))"
   ]
  },
  {
   "cell_type": "code",
   "execution_count": 0,
   "metadata": {
    "colab": {
     "base_uri": "https://localhost:8080/",
     "height": 147
    },
    "colab_type": "code",
    "executionInfo": {
     "elapsed": 17476,
     "status": "ok",
     "timestamp": 1558524815424,
     "user": {
      "displayName": "トムー",
      "photoUrl": "",
      "userId": "01084465765645554068"
     },
     "user_tz": -540
    },
    "id": "ak1PVetAp2Nk",
    "outputId": "5b42e737-80af-4815-f818-b68b496fa5d2"
   },
   "outputs": [
    {
     "name": "stderr",
     "output_type": "stream",
     "text": [
      "/usr/local/lib/python3.6/dist-packages/xgboost/core.py:587: FutureWarning: Series.base is deprecated and will be removed in a future version\n",
      "  if getattr(data, 'base', None) is not None and \\\n"
     ]
    },
    {
     "name": "stdout",
     "output_type": "stream",
     "text": [
      "--------------------------------------------------------------------------------\n",
      "0.9919747380385158\n",
      "rmse: 0.12658898844704622\n",
      "rmsle:  0.0027719453135066547\n",
      "mae:  4566.376340432363\n"
     ]
    }
   ],
   "source": [
    "my_model.fit(train_set.values, y)\n",
    "print('-'*80)\n",
    "print(my_model.score(train_set.values,y))\n",
    "print('rmse:',rmse.mean())\n",
    "train_pred = my_model.predict(train_set.values)\n",
    "print('rmsle: ',np.sqrt(mean_squared_log_error(y, train_pred)))\n",
    "print('mae: ',mean_absolute_error(train_data.SalePrice, np.expm1(train_pred)))"
   ]
  },
  {
   "cell_type": "code",
   "execution_count": 0,
   "metadata": {
    "colab": {
     "base_uri": "https://localhost:8080/",
     "height": 36
    },
    "colab_type": "code",
    "executionInfo": {
     "elapsed": 69358,
     "status": "ok",
     "timestamp": 1557649907424,
     "user": {
      "displayName": "トムー",
      "photoUrl": "",
      "userId": "01084465765645554068"
     },
     "user_tz": -540
    },
    "id": "I7OBc2zWrIdJ",
    "outputId": "fff3b252-909a-4898-b4df-f4c597a14ae0"
   },
   "outputs": [
    {
     "name": "stdout",
     "output_type": "stream",
     "text": [
      "[116392.055 163346.08  190746.84  195655.78  189295.47 ]\n"
     ]
    }
   ],
   "source": [
    "'''\n",
    "提出\n",
    "'''\n",
    "predicted_prices = np.expm1(my_model.predict(test_set.values))\n",
    "print(predicted_prices[:5])\n",
    "\n",
    "my_submission = pd.DataFrame({'Id': test_data.Id, 'SalePrice': predicted_prices})\n",
    "my_submission.Id = my_submission.Id.astype(int)\n",
    "my_submission.to_csv('submission.csv', index=False)"
   ]
  },
  {
   "cell_type": "code",
   "execution_count": 0,
   "metadata": {
    "colab": {},
    "colab_type": "code",
    "id": "4IY_BxdWwFIv"
   },
   "outputs": [],
   "source": [
    "'''\n",
    "データの保存\n",
    "'''\n",
    "import pickle\n",
    "Id = test_data.Id\n",
    "\n",
    "pickle_file = \"./HousePrice_data_kernel.pickle\"\n",
    "with open(pickle_file, 'wb') as f:\n",
    "    pickle.dump(train_set, f)\n",
    "    pickle.dump(y, f)\n",
    "    pickle.dump(test_set, f)\n",
    "    pickle.dump(train_data, f)\n",
    "    pickle.dump(test_data, f)\n",
    "    pickle.dump(Id, f)"
   ]
  },
  {
   "cell_type": "code",
   "execution_count": 0,
   "metadata": {
    "colab": {},
    "colab_type": "code",
    "id": "c1RGs89HwL7g"
   },
   "outputs": [],
   "source": [
    "with open(pickle_file, 'rb') as f:\n",
    "    X_train = pickle.load(f)\n",
    "    Y_train = pickle.load(f)\n",
    "    X_test = pickle.load(f)\n",
    "    train = pickle.load(f)\n",
    "    test = pickle.load(f)\n",
    "    Id = pickle.load(f)"
   ]
  },
  {
   "cell_type": "code",
   "execution_count": 0,
   "metadata": {
    "colab": {
     "base_uri": "https://localhost:8080/",
     "height": 36
    },
    "colab_type": "code",
    "executionInfo": {
     "elapsed": 69333,
     "status": "ok",
     "timestamp": 1557649907443,
     "user": {
      "displayName": "トムー",
      "photoUrl": "",
      "userId": "01084465765645554068"
     },
     "user_tz": -540
    },
    "id": "tge4msFewhuS",
    "outputId": "93824d8f-5e61-4eb7-f8e3-a4d5e0194372"
   },
   "outputs": [
    {
     "data": {
      "text/plain": [
       "(1460, 73)"
      ]
     },
     "execution_count": 34,
     "metadata": {
      "tags": []
     },
     "output_type": "execute_result"
    }
   ],
   "source": [
    "X_train.shape"
   ]
  },
  {
   "cell_type": "code",
   "execution_count": 0,
   "metadata": {
    "colab": {},
    "colab_type": "code",
    "id": "g0T6vd9hKbRz"
   },
   "outputs": [],
   "source": []
  }
 ],
 "metadata": {
  "accelerator": "GPU",
  "colab": {
   "collapsed_sections": [],
   "name": "data_kernel.ipynb",
   "provenance": [],
   "version": "0.3.2"
  },
  "kernelspec": {
   "display_name": "Python 3",
   "language": "python",
   "name": "python3"
  },
  "language_info": {
   "codemirror_mode": {
    "name": "ipython",
    "version": 3
   },
   "file_extension": ".py",
   "mimetype": "text/x-python",
   "name": "python",
   "nbconvert_exporter": "python",
   "pygments_lexer": "ipython3",
   "version": "3.7.3"
  },
  "toc": {
   "base_numbering": 1,
   "nav_menu": {},
   "number_sections": true,
   "sideBar": true,
   "skip_h1_title": false,
   "title_cell": "Table of Contents",
   "title_sidebar": "Contents",
   "toc_cell": false,
   "toc_position": {},
   "toc_section_display": true,
   "toc_window_display": false
  }
 },
 "nbformat": 4,
 "nbformat_minor": 1
}
